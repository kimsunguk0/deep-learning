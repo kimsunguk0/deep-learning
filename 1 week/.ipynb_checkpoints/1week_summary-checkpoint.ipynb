{
 "cells": [
  {
   "cell_type": "markdown",
   "metadata": {
    "id": "Bvd1dtJBtk5m"
   },
   "source": [
    "머신러닝, 딥러닝 회귀 분류 하기"
   ]
  },
  {
   "cell_type": "code",
   "execution_count": 34,
   "metadata": {
    "id": "haN9p6Ft-2m6"
   },
   "outputs": [],
   "source": [
    "import numpy as np\n",
    "import pandas as pd\n",
    "import matplotlib.pyplot as plt"
   ]
  },
  {
   "cell_type": "markdown",
   "metadata": {
    "id": "0ZokRg34vjMA"
   },
   "source": [
    "Dataset read and preprocessing"
   ]
  },
  {
   "cell_type": "code",
   "execution_count": 66,
   "metadata": {
    "colab": {
     "base_uri": "https://localhost:8080/",
     "height": 423
    },
    "id": "acFXjr_WvtA5",
    "outputId": "9235415e-bd4b-4b6b-a7ae-6120a717fc53"
   },
   "outputs": [
    {
     "data": {
      "text/html": [
       "<div>\n",
       "<style scoped>\n",
       "    .dataframe tbody tr th:only-of-type {\n",
       "        vertical-align: middle;\n",
       "    }\n",
       "\n",
       "    .dataframe tbody tr th {\n",
       "        vertical-align: top;\n",
       "    }\n",
       "\n",
       "    .dataframe thead th {\n",
       "        text-align: right;\n",
       "    }\n",
       "</style>\n",
       "<table border=\"1\" class=\"dataframe\">\n",
       "  <thead>\n",
       "    <tr style=\"text-align: right;\">\n",
       "      <th></th>\n",
       "      <th>id</th>\n",
       "      <th>Sex</th>\n",
       "      <th>Length</th>\n",
       "      <th>Diameter</th>\n",
       "      <th>Height</th>\n",
       "      <th>Whole_weight</th>\n",
       "      <th>Shucked_weight</th>\n",
       "      <th>Viscera_weight</th>\n",
       "      <th>Shell_weight</th>\n",
       "      <th>Rings</th>\n",
       "    </tr>\n",
       "  </thead>\n",
       "  <tbody>\n",
       "    <tr>\n",
       "      <th>0</th>\n",
       "      <td>0</td>\n",
       "      <td>M</td>\n",
       "      <td>0.455</td>\n",
       "      <td>0.365</td>\n",
       "      <td>0.095</td>\n",
       "      <td>0.5140</td>\n",
       "      <td>0.2245</td>\n",
       "      <td>0.1010</td>\n",
       "      <td>0.1500</td>\n",
       "      <td>15</td>\n",
       "    </tr>\n",
       "    <tr>\n",
       "      <th>1</th>\n",
       "      <td>1</td>\n",
       "      <td>M</td>\n",
       "      <td>0.350</td>\n",
       "      <td>0.265</td>\n",
       "      <td>0.090</td>\n",
       "      <td>0.2255</td>\n",
       "      <td>0.0995</td>\n",
       "      <td>0.0485</td>\n",
       "      <td>0.0700</td>\n",
       "      <td>7</td>\n",
       "    </tr>\n",
       "    <tr>\n",
       "      <th>2</th>\n",
       "      <td>2</td>\n",
       "      <td>F</td>\n",
       "      <td>0.530</td>\n",
       "      <td>0.420</td>\n",
       "      <td>0.135</td>\n",
       "      <td>0.6770</td>\n",
       "      <td>0.2565</td>\n",
       "      <td>0.1415</td>\n",
       "      <td>0.2100</td>\n",
       "      <td>9</td>\n",
       "    </tr>\n",
       "    <tr>\n",
       "      <th>3</th>\n",
       "      <td>3</td>\n",
       "      <td>M</td>\n",
       "      <td>0.440</td>\n",
       "      <td>0.365</td>\n",
       "      <td>0.125</td>\n",
       "      <td>0.5160</td>\n",
       "      <td>0.2155</td>\n",
       "      <td>0.1140</td>\n",
       "      <td>0.1550</td>\n",
       "      <td>10</td>\n",
       "    </tr>\n",
       "    <tr>\n",
       "      <th>4</th>\n",
       "      <td>4</td>\n",
       "      <td>I</td>\n",
       "      <td>0.330</td>\n",
       "      <td>0.255</td>\n",
       "      <td>0.080</td>\n",
       "      <td>0.2050</td>\n",
       "      <td>0.0895</td>\n",
       "      <td>0.0395</td>\n",
       "      <td>0.0550</td>\n",
       "      <td>7</td>\n",
       "    </tr>\n",
       "    <tr>\n",
       "      <th>...</th>\n",
       "      <td>...</td>\n",
       "      <td>...</td>\n",
       "      <td>...</td>\n",
       "      <td>...</td>\n",
       "      <td>...</td>\n",
       "      <td>...</td>\n",
       "      <td>...</td>\n",
       "      <td>...</td>\n",
       "      <td>...</td>\n",
       "      <td>...</td>\n",
       "    </tr>\n",
       "    <tr>\n",
       "      <th>4172</th>\n",
       "      <td>4172</td>\n",
       "      <td>F</td>\n",
       "      <td>0.565</td>\n",
       "      <td>0.450</td>\n",
       "      <td>0.165</td>\n",
       "      <td>0.8870</td>\n",
       "      <td>0.3700</td>\n",
       "      <td>0.2390</td>\n",
       "      <td>0.2490</td>\n",
       "      <td>11</td>\n",
       "    </tr>\n",
       "    <tr>\n",
       "      <th>4173</th>\n",
       "      <td>4173</td>\n",
       "      <td>M</td>\n",
       "      <td>0.590</td>\n",
       "      <td>0.440</td>\n",
       "      <td>0.135</td>\n",
       "      <td>0.9660</td>\n",
       "      <td>0.4390</td>\n",
       "      <td>0.2145</td>\n",
       "      <td>0.2605</td>\n",
       "      <td>10</td>\n",
       "    </tr>\n",
       "    <tr>\n",
       "      <th>4174</th>\n",
       "      <td>4174</td>\n",
       "      <td>M</td>\n",
       "      <td>0.600</td>\n",
       "      <td>0.475</td>\n",
       "      <td>0.205</td>\n",
       "      <td>1.1760</td>\n",
       "      <td>0.5255</td>\n",
       "      <td>0.2875</td>\n",
       "      <td>0.3080</td>\n",
       "      <td>9</td>\n",
       "    </tr>\n",
       "    <tr>\n",
       "      <th>4175</th>\n",
       "      <td>4175</td>\n",
       "      <td>F</td>\n",
       "      <td>0.625</td>\n",
       "      <td>0.485</td>\n",
       "      <td>0.150</td>\n",
       "      <td>1.0945</td>\n",
       "      <td>0.5310</td>\n",
       "      <td>0.2610</td>\n",
       "      <td>0.2960</td>\n",
       "      <td>10</td>\n",
       "    </tr>\n",
       "    <tr>\n",
       "      <th>4176</th>\n",
       "      <td>4176</td>\n",
       "      <td>M</td>\n",
       "      <td>0.710</td>\n",
       "      <td>0.555</td>\n",
       "      <td>0.195</td>\n",
       "      <td>1.9485</td>\n",
       "      <td>0.9455</td>\n",
       "      <td>0.3765</td>\n",
       "      <td>0.4950</td>\n",
       "      <td>12</td>\n",
       "    </tr>\n",
       "  </tbody>\n",
       "</table>\n",
       "<p>4177 rows × 10 columns</p>\n",
       "</div>"
      ],
      "text/plain": [
       "        id Sex  Length  Diameter  Height  Whole_weight  Shucked_weight  \\\n",
       "0        0   M   0.455     0.365   0.095        0.5140          0.2245   \n",
       "1        1   M   0.350     0.265   0.090        0.2255          0.0995   \n",
       "2        2   F   0.530     0.420   0.135        0.6770          0.2565   \n",
       "3        3   M   0.440     0.365   0.125        0.5160          0.2155   \n",
       "4        4   I   0.330     0.255   0.080        0.2050          0.0895   \n",
       "...    ...  ..     ...       ...     ...           ...             ...   \n",
       "4172  4172   F   0.565     0.450   0.165        0.8870          0.3700   \n",
       "4173  4173   M   0.590     0.440   0.135        0.9660          0.4390   \n",
       "4174  4174   M   0.600     0.475   0.205        1.1760          0.5255   \n",
       "4175  4175   F   0.625     0.485   0.150        1.0945          0.5310   \n",
       "4176  4176   M   0.710     0.555   0.195        1.9485          0.9455   \n",
       "\n",
       "      Viscera_weight  Shell_weight  Rings  \n",
       "0             0.1010        0.1500     15  \n",
       "1             0.0485        0.0700      7  \n",
       "2             0.1415        0.2100      9  \n",
       "3             0.1140        0.1550     10  \n",
       "4             0.0395        0.0550      7  \n",
       "...              ...           ...    ...  \n",
       "4172          0.2390        0.2490     11  \n",
       "4173          0.2145        0.2605     10  \n",
       "4174          0.2875        0.3080      9  \n",
       "4175          0.2610        0.2960     10  \n",
       "4176          0.3765        0.4950     12  \n",
       "\n",
       "[4177 rows x 10 columns]"
      ]
     },
     "execution_count": 66,
     "metadata": {},
     "output_type": "execute_result"
    }
   ],
   "source": [
    "df = pd.read_csv(r'C:\\Users\\성욱\\OneDrive\\바탕 화면\\3-2\\deep\\data\\abalone.csv')\n",
    "df"
   ]
  },
  {
   "cell_type": "code",
   "execution_count": 68,
   "metadata": {
    "id": "npUuGJ08v87U"
   },
   "outputs": [
    {
     "name": "stdout",
     "output_type": "stream",
     "text": [
      "<class 'pandas.core.frame.DataFrame'>\n",
      "RangeIndex: 4177 entries, 0 to 4176\n",
      "Data columns (total 10 columns):\n",
      " #   Column          Non-Null Count  Dtype  \n",
      "---  ------          --------------  -----  \n",
      " 0   id              4177 non-null   int64  \n",
      " 1   Sex             4177 non-null   object \n",
      " 2   Length          4177 non-null   float64\n",
      " 3   Diameter        4177 non-null   float64\n",
      " 4   Height          4177 non-null   float64\n",
      " 5   Whole_weight    4177 non-null   float64\n",
      " 6   Shucked_weight  4177 non-null   float64\n",
      " 7   Viscera_weight  4177 non-null   float64\n",
      " 8   Shell_weight    4177 non-null   float64\n",
      " 9   Rings           4177 non-null   int64  \n",
      "dtypes: float64(7), int64(2), object(1)\n",
      "memory usage: 326.5+ KB\n"
     ]
    }
   ],
   "source": [
    "df.info()\n",
    "\n"
   ]
  },
  {
   "cell_type": "code",
   "execution_count": 70,
   "metadata": {
    "colab": {
     "base_uri": "https://localhost:8080/"
    },
    "id": "rCliC_RDxQze",
    "outputId": "8468c5b3-a94c-413a-d35b-672fd713fc56"
   },
   "outputs": [
    {
     "data": {
      "text/html": [
       "<div>\n",
       "<style scoped>\n",
       "    .dataframe tbody tr th:only-of-type {\n",
       "        vertical-align: middle;\n",
       "    }\n",
       "\n",
       "    .dataframe tbody tr th {\n",
       "        vertical-align: top;\n",
       "    }\n",
       "\n",
       "    .dataframe thead th {\n",
       "        text-align: right;\n",
       "    }\n",
       "</style>\n",
       "<table border=\"1\" class=\"dataframe\">\n",
       "  <thead>\n",
       "    <tr style=\"text-align: right;\">\n",
       "      <th></th>\n",
       "      <th>id</th>\n",
       "      <th>Length</th>\n",
       "      <th>Diameter</th>\n",
       "      <th>Height</th>\n",
       "      <th>Whole_weight</th>\n",
       "      <th>Shucked_weight</th>\n",
       "      <th>Viscera_weight</th>\n",
       "      <th>Shell_weight</th>\n",
       "      <th>Rings</th>\n",
       "    </tr>\n",
       "  </thead>\n",
       "  <tbody>\n",
       "    <tr>\n",
       "      <th>count</th>\n",
       "      <td>4177.000000</td>\n",
       "      <td>4177.000000</td>\n",
       "      <td>4177.000000</td>\n",
       "      <td>4177.000000</td>\n",
       "      <td>4177.000000</td>\n",
       "      <td>4177.000000</td>\n",
       "      <td>4177.000000</td>\n",
       "      <td>4177.000000</td>\n",
       "      <td>4177.000000</td>\n",
       "    </tr>\n",
       "    <tr>\n",
       "      <th>mean</th>\n",
       "      <td>2088.000000</td>\n",
       "      <td>0.523992</td>\n",
       "      <td>0.407881</td>\n",
       "      <td>0.139516</td>\n",
       "      <td>0.828742</td>\n",
       "      <td>0.359367</td>\n",
       "      <td>0.180594</td>\n",
       "      <td>0.238831</td>\n",
       "      <td>9.933684</td>\n",
       "    </tr>\n",
       "    <tr>\n",
       "      <th>std</th>\n",
       "      <td>1205.940366</td>\n",
       "      <td>0.120093</td>\n",
       "      <td>0.099240</td>\n",
       "      <td>0.041827</td>\n",
       "      <td>0.490389</td>\n",
       "      <td>0.221963</td>\n",
       "      <td>0.109614</td>\n",
       "      <td>0.139203</td>\n",
       "      <td>3.224169</td>\n",
       "    </tr>\n",
       "    <tr>\n",
       "      <th>min</th>\n",
       "      <td>0.000000</td>\n",
       "      <td>0.075000</td>\n",
       "      <td>0.055000</td>\n",
       "      <td>0.000000</td>\n",
       "      <td>0.002000</td>\n",
       "      <td>0.001000</td>\n",
       "      <td>0.000500</td>\n",
       "      <td>0.001500</td>\n",
       "      <td>1.000000</td>\n",
       "    </tr>\n",
       "    <tr>\n",
       "      <th>25%</th>\n",
       "      <td>1044.000000</td>\n",
       "      <td>0.450000</td>\n",
       "      <td>0.350000</td>\n",
       "      <td>0.115000</td>\n",
       "      <td>0.441500</td>\n",
       "      <td>0.186000</td>\n",
       "      <td>0.093500</td>\n",
       "      <td>0.130000</td>\n",
       "      <td>8.000000</td>\n",
       "    </tr>\n",
       "    <tr>\n",
       "      <th>50%</th>\n",
       "      <td>2088.000000</td>\n",
       "      <td>0.545000</td>\n",
       "      <td>0.425000</td>\n",
       "      <td>0.140000</td>\n",
       "      <td>0.799500</td>\n",
       "      <td>0.336000</td>\n",
       "      <td>0.171000</td>\n",
       "      <td>0.234000</td>\n",
       "      <td>9.000000</td>\n",
       "    </tr>\n",
       "    <tr>\n",
       "      <th>75%</th>\n",
       "      <td>3132.000000</td>\n",
       "      <td>0.615000</td>\n",
       "      <td>0.480000</td>\n",
       "      <td>0.165000</td>\n",
       "      <td>1.153000</td>\n",
       "      <td>0.502000</td>\n",
       "      <td>0.253000</td>\n",
       "      <td>0.329000</td>\n",
       "      <td>11.000000</td>\n",
       "    </tr>\n",
       "    <tr>\n",
       "      <th>max</th>\n",
       "      <td>4176.000000</td>\n",
       "      <td>0.815000</td>\n",
       "      <td>0.650000</td>\n",
       "      <td>1.130000</td>\n",
       "      <td>2.825500</td>\n",
       "      <td>1.488000</td>\n",
       "      <td>0.760000</td>\n",
       "      <td>1.005000</td>\n",
       "      <td>29.000000</td>\n",
       "    </tr>\n",
       "  </tbody>\n",
       "</table>\n",
       "</div>"
      ],
      "text/plain": [
       "                id       Length     Diameter       Height  Whole_weight  \\\n",
       "count  4177.000000  4177.000000  4177.000000  4177.000000   4177.000000   \n",
       "mean   2088.000000     0.523992     0.407881     0.139516      0.828742   \n",
       "std    1205.940366     0.120093     0.099240     0.041827      0.490389   \n",
       "min       0.000000     0.075000     0.055000     0.000000      0.002000   \n",
       "25%    1044.000000     0.450000     0.350000     0.115000      0.441500   \n",
       "50%    2088.000000     0.545000     0.425000     0.140000      0.799500   \n",
       "75%    3132.000000     0.615000     0.480000     0.165000      1.153000   \n",
       "max    4176.000000     0.815000     0.650000     1.130000      2.825500   \n",
       "\n",
       "       Shucked_weight  Viscera_weight  Shell_weight        Rings  \n",
       "count     4177.000000     4177.000000   4177.000000  4177.000000  \n",
       "mean         0.359367        0.180594      0.238831     9.933684  \n",
       "std          0.221963        0.109614      0.139203     3.224169  \n",
       "min          0.001000        0.000500      0.001500     1.000000  \n",
       "25%          0.186000        0.093500      0.130000     8.000000  \n",
       "50%          0.336000        0.171000      0.234000     9.000000  \n",
       "75%          0.502000        0.253000      0.329000    11.000000  \n",
       "max          1.488000        0.760000      1.005000    29.000000  "
      ]
     },
     "execution_count": 70,
     "metadata": {},
     "output_type": "execute_result"
    }
   ],
   "source": [
    "df.describe()"
   ]
  },
  {
   "cell_type": "code",
   "execution_count": 72,
   "metadata": {
    "colab": {
     "base_uri": "https://localhost:8080/"
    },
    "id": "Ksqaz8HawqBH",
    "outputId": "78a9b98b-65ce-41a6-f59a-4769292696db"
   },
   "outputs": [
    {
     "data": {
      "text/plain": [
       "False"
      ]
     },
     "execution_count": 72,
     "metadata": {},
     "output_type": "execute_result"
    }
   ],
   "source": [
    "df.isnull().values.any()\n"
   ]
  },
  {
   "cell_type": "code",
   "execution_count": 96,
   "metadata": {
    "colab": {
     "base_uri": "https://localhost:8080/"
    },
    "id": "7o3AYWrw3TPd",
    "outputId": "7a12fe81-9d95-4d0e-c9c6-3895754708c6"
   },
   "outputs": [],
   "source": [
    "# 분류\n",
    "input_cls = df.drop(['id','Sex'],axis=1).values\n",
    "target_cls = df['Sex']\n",
    "\n",
    "# 회귀\n",
    "input_rg = df.drop(['id','Rings'],axis=1)\n",
    "input_rg = pd.get_dummies(input_rg,columns=['Sex']).values\n",
    "target_rg = df['Rings']\n",
    "\n"
   ]
  },
  {
   "cell_type": "code",
   "execution_count": 98,
   "metadata": {},
   "outputs": [
    {
     "data": {
      "text/plain": [
       "array([[ 0.455 ,  0.365 ,  0.095 , ...,  0.101 ,  0.15  , 15.    ],\n",
       "       [ 0.35  ,  0.265 ,  0.09  , ...,  0.0485,  0.07  ,  7.    ],\n",
       "       [ 0.53  ,  0.42  ,  0.135 , ...,  0.1415,  0.21  ,  9.    ],\n",
       "       ...,\n",
       "       [ 0.6   ,  0.475 ,  0.205 , ...,  0.2875,  0.308 ,  9.    ],\n",
       "       [ 0.625 ,  0.485 ,  0.15  , ...,  0.261 ,  0.296 , 10.    ],\n",
       "       [ 0.71  ,  0.555 ,  0.195 , ...,  0.3765,  0.495 , 12.    ]])"
      ]
     },
     "execution_count": 98,
     "metadata": {},
     "output_type": "execute_result"
    }
   ],
   "source": [
    "input_cls"
   ]
  },
  {
   "cell_type": "code",
   "execution_count": 100,
   "metadata": {},
   "outputs": [
    {
     "data": {
      "text/plain": [
       "array([[0.455, 0.365, 0.095, ..., False, False, True],\n",
       "       [0.35, 0.265, 0.09, ..., False, False, True],\n",
       "       [0.53, 0.42, 0.135, ..., True, False, False],\n",
       "       ...,\n",
       "       [0.6, 0.475, 0.205, ..., False, False, True],\n",
       "       [0.625, 0.485, 0.15, ..., True, False, False],\n",
       "       [0.71, 0.555, 0.195, ..., False, False, True]], dtype=object)"
      ]
     },
     "execution_count": 100,
     "metadata": {},
     "output_type": "execute_result"
    }
   ],
   "source": [
    "input_rg"
   ]
  },
  {
   "cell_type": "code",
   "execution_count": 238,
   "metadata": {
    "colab": {
     "base_uri": "https://localhost:8080/"
    },
    "id": "o8v47z647Pjg",
    "outputId": "90b28f4d-3075-4275-a590-ae2970b8cfda"
   },
   "outputs": [
    {
     "data": {
      "text/plain": [
       "array([2, 2, 0, ..., 2, 0, 2], dtype=int64)"
      ]
     },
     "execution_count": 238,
     "metadata": {},
     "output_type": "execute_result"
    }
   ],
   "source": [
    "from sklearn.preprocessing import LabelEncoder\n",
    "\n",
    "le = LabelEncoder()\n",
    "target_cls = le.fit_transform(target_cls)\n",
    "target_cls"
   ]
  },
  {
   "cell_type": "code",
   "execution_count": 176,
   "metadata": {
    "id": "kmcd_Czi3qjT"
   },
   "outputs": [],
   "source": [
    "# split test and train set\n",
    "\n",
    "x_train_cls,x_test_cls,y_train_cls,y_test_cls = train_test_split(input_cls,target_cls,test_size=0.2,shuffle=True,random_state=12)\n",
    "\n",
    "# split test and train set\n",
    "\n",
    "x_train_rg,x_test_rg,y_train_rg,y_test_rg = train_test_split(input_rg,target_rg,test_size=0.2,shuffle=True,random_state=12)"
   ]
  },
  {
   "cell_type": "code",
   "execution_count": 178,
   "metadata": {},
   "outputs": [],
   "source": [
    "from sklearn.preprocessing import StandardScaler\n",
    "\n",
    "ss=StandardScaler()\n",
    "x_train_cls=ss.fit_transform(x_train_cls)\n",
    "x_test_cls=ss.transform(x_test_cls)"
   ]
  },
  {
   "cell_type": "code",
   "execution_count": 180,
   "metadata": {},
   "outputs": [],
   "source": [
    "ss_r=StandardScaler()\n",
    "x_train_rg=ss_r.fit_transform(x_train_rg)\n",
    "x_test_rg=ss_r.transform(x_test_rg)"
   ]
  },
  {
   "cell_type": "markdown",
   "metadata": {
    "id": "qmiovmPSvGKi"
   },
   "source": [
    "Machine Learning"
   ]
  },
  {
   "cell_type": "code",
   "execution_count": 108,
   "metadata": {},
   "outputs": [],
   "source": [
    "from sklearn.linear_model import LogisticRegression,LinearRegression\n",
    "from sklearn.tree import DecisionTreeClassifier,DecisionTreeRegressor\n",
    "from sklearn.ensemble import RandomForestClassifier,RandomForestRegressor\n",
    "from sklearn.svm import SVC,SVR\n",
    "from sklearn.neighbors import KNeighborsClassifier,KNeighborsRegressor\n",
    "from sklearn.metrics import accuracy_score\n",
    "from sklearn.metrics import confusion_matrix\n",
    "from sklearn.metrics import mean_squared_error"
   ]
  },
  {
   "cell_type": "code",
   "execution_count": 120,
   "metadata": {
    "id": "8buvNSNrvfFm"
   },
   "outputs": [
    {
     "name": "stdout",
     "output_type": "stream",
     "text": [
      "\n",
      "--- Logistic Regression Classifier ---\n",
      "0.5550239234449761\n",
      "[[ 70  37 171]\n",
      " [ 13 240  28]\n",
      " [ 55  68 154]]\n",
      "\n",
      "--- Linear Regression  ---\n",
      "4.586171911701943\n"
     ]
    }
   ],
   "source": [
    "# 분류 \n",
    "lr=LogisticRegression(C=10,max_iter=500)\n",
    "lr.fit(x_train_cls,y_train_cls)\n",
    "y_pred=lr.predict(x_test_cls)\n",
    "print (\"\\n--- Logistic Regression Classifier ---\")\n",
    "print (accuracy_score(y_test_cls, y_pred))\n",
    "print (confusion_matrix(y_test_cls, y_pred))\n",
    "\n",
    "# 회귀\n",
    "lr_r=LinearRegression()\n",
    "lr_r.fit(x_train_rg,y_train_rg)\n",
    "y_pred_lr=lr_r.predict(x_test_rg)\n",
    "lr_r_mse =mean_squared_error(y_test_rg,y_pred_lr)\n",
    "print (\"\\n--- Linear Regression  ---\")\n",
    "print(lr_r_mse)\n"
   ]
  },
  {
   "cell_type": "code",
   "execution_count": 124,
   "metadata": {
    "colab": {
     "base_uri": "https://localhost:8080/"
    },
    "id": "XBtg9wJx4f6q",
    "outputId": "659b64dc-d256-4e29-c682-b15f796e3632"
   },
   "outputs": [
    {
     "name": "stdout",
     "output_type": "stream",
     "text": [
      "\n",
      "--- Decision Tree Classifier ---\n",
      "0.47129186602870815\n",
      "[[100  40 138]\n",
      " [ 35 177  69]\n",
      " [113  47 117]]\n",
      "\n",
      "--- Decision Tree Regression  ---\n",
      "9.309808612440191\n"
     ]
    }
   ],
   "source": [
    "# 분류 \n",
    "dtc=DecisionTreeClassifier()\n",
    "dtc.fit(x_train_cls,y_train_cls)\n",
    "y_pred_dtc=dtc.predict(x_test_cls)\n",
    "print (\"\\n--- Decision Tree Classifier ---\")\n",
    "print (accuracy_score(y_test_cls, y_pred_dtc))\n",
    "print (confusion_matrix(y_test_cls, y_pred_dtc))\n",
    "\n",
    "# 회귀\n",
    "dtr=DecisionTreeRegressor()\n",
    "dtr.fit(x_train_rg,y_train_rg)\n",
    "y_pred_dtr=dtr.predict(x_test_rg)\n",
    "dtr_mse =mean_squared_error(y_test_rg,y_pred_dtr)\n",
    "print (\"\\n--- Decision Tree Regression  ---\")\n",
    "print(dtr_mse)"
   ]
  },
  {
   "cell_type": "code",
   "execution_count": 126,
   "metadata": {
    "colab": {
     "base_uri": "https://localhost:8080/",
     "height": 445
    },
    "id": "1I2C2RBN4qJ9",
    "outputId": "a750fa80-38d8-4d68-f7a7-2f6c9a9db4cc"
   },
   "outputs": [
    {
     "name": "stdout",
     "output_type": "stream",
     "text": [
      "\n",
      "--- RandomForest Classifier ---\n",
      "0.5657894736842105\n",
      "[[ 99  29 150]\n",
      " [ 23 221  37]\n",
      " [ 76  48 153]]\n",
      "\n",
      "--- RandomForest Regression  ---\n",
      "4.507453708133971\n"
     ]
    }
   ],
   "source": [
    "# 분류 \n",
    "rfc=RandomForestClassifier()\n",
    "rfc.fit(x_train_cls,y_train_cls)\n",
    "y_pred_rfc=rfc.predict(x_test_cls)\n",
    "print (\"\\n--- RandomForest Classifier ---\")\n",
    "print (accuracy_score(y_test_cls, y_pred_rfc))\n",
    "print (confusion_matrix(y_test_cls, y_pred_rfc))\n",
    "\n",
    "# 회귀\n",
    "rfr=RandomForestRegressor()\n",
    "rfr.fit(x_train_rg,y_train_rg)\n",
    "y_pred_rfr=rfr.predict(x_test_rg)\n",
    "rfr_mse =mean_squared_error(y_test_rg,y_pred_rfr)\n",
    "print (\"\\n--- RandomForest Regression  ---\")\n",
    "print(rfr_mse)"
   ]
  },
  {
   "cell_type": "code",
   "execution_count": 128,
   "metadata": {
    "id": "2PvVjj185iMj"
   },
   "outputs": [
    {
     "name": "stdout",
     "output_type": "stream",
     "text": [
      "\n",
      "--- SVC Classifier ---\n",
      "0.5382775119617225\n",
      "[[ 38  28 212]\n",
      " [  1 230  50]\n",
      " [ 31  64 182]]\n",
      "\n",
      "--- SVR Regression  ---\n",
      "4.581737570172712\n"
     ]
    }
   ],
   "source": [
    "# 분류 \n",
    "SVC=SVC()\n",
    "SVC.fit(x_train_cls,y_train_cls)\n",
    "y_pred_SVC=SVC.predict(x_test_cls)\n",
    "print (\"\\n--- SVC Classifier ---\")\n",
    "print (accuracy_score(y_test_cls, y_pred_SVC))\n",
    "print (confusion_matrix(y_test_cls, y_pred_SVC))\n",
    "\n",
    "# 회귀\n",
    "SVR=SVR()\n",
    "SVR.fit(x_train_rg,y_train_rg)\n",
    "y_pred_SVR=SVR.predict(x_test_rg)\n",
    "SVR_mse =mean_squared_error(y_test_rg,y_pred_SVR)\n",
    "print (\"\\n--- SVR Regression  ---\")\n",
    "print(SVR_mse)"
   ]
  },
  {
   "cell_type": "code",
   "execution_count": 130,
   "metadata": {
    "colab": {
     "base_uri": "https://localhost:8080/"
    },
    "id": "0DL5EdY35kzl",
    "outputId": "ba52d559-a135-4118-f601-4fdcc9242f65"
   },
   "outputs": [
    {
     "name": "stdout",
     "output_type": "stream",
     "text": [
      "\n",
      "--- KNeighbor Classifier ---\n",
      "0.55622009569378\n",
      "[[122  35 121]\n",
      " [ 36 215  30]\n",
      " [101  48 128]]\n",
      "\n",
      "--- KNeighbor Regression  ---\n",
      "4.507453708133971\n"
     ]
    }
   ],
   "source": [
    "# 분류 \n",
    "knc=KNeighborsClassifier()\n",
    "knc.fit(x_train_cls,y_train_cls)\n",
    "y_pred_knc=knc.predict(x_test_cls)\n",
    "print (\"\\n--- KNeighbor Classifier ---\")\n",
    "print (accuracy_score(y_test_cls, y_pred_knc))\n",
    "print (confusion_matrix(y_test_cls, y_pred_knc))\n",
    "\n",
    "# 회귀\n",
    "knr=KNeighborsRegressor()\n",
    "knr.fit(x_train_rg,y_train_rg)\n",
    "y_pred_knr=rfr.predict(x_test_rg)\n",
    "knr_mse =mean_squared_error(y_test_rg,y_pred_knr)\n",
    "print (\"\\n--- KNeighbor Regression  ---\")\n",
    "print(knr_mse)"
   ]
  },
  {
   "cell_type": "markdown",
   "metadata": {
    "id": "qh41UK7N5uPy"
   },
   "source": [
    "Deep Learning"
   ]
  },
  {
   "cell_type": "code",
   "execution_count": 134,
   "metadata": {},
   "outputs": [
    {
     "name": "stdout",
     "output_type": "stream",
     "text": [
      "Collecting tensorflow\n",
      "  Downloading tensorflow-2.17.0-cp312-cp312-win_amd64.whl.metadata (3.2 kB)\n",
      "Collecting tensorflow-intel==2.17.0 (from tensorflow)\n",
      "  Downloading tensorflow_intel-2.17.0-cp312-cp312-win_amd64.whl.metadata (5.0 kB)\n",
      "Collecting absl-py>=1.0.0 (from tensorflow-intel==2.17.0->tensorflow)\n",
      "  Using cached absl_py-2.1.0-py3-none-any.whl.metadata (2.3 kB)\n",
      "Collecting astunparse>=1.6.0 (from tensorflow-intel==2.17.0->tensorflow)\n",
      "  Using cached astunparse-1.6.3-py2.py3-none-any.whl.metadata (4.4 kB)\n",
      "Collecting flatbuffers>=24.3.25 (from tensorflow-intel==2.17.0->tensorflow)\n",
      "  Using cached flatbuffers-24.3.25-py2.py3-none-any.whl.metadata (850 bytes)\n",
      "Collecting gast!=0.5.0,!=0.5.1,!=0.5.2,>=0.2.1 (from tensorflow-intel==2.17.0->tensorflow)\n",
      "  Downloading gast-0.6.0-py3-none-any.whl.metadata (1.3 kB)\n",
      "Collecting google-pasta>=0.1.1 (from tensorflow-intel==2.17.0->tensorflow)\n",
      "  Using cached google_pasta-0.2.0-py3-none-any.whl.metadata (814 bytes)\n",
      "Requirement already satisfied: h5py>=3.10.0 in c:\\anaconda3\\lib\\site-packages (from tensorflow-intel==2.17.0->tensorflow) (3.11.0)\n",
      "Collecting libclang>=13.0.0 (from tensorflow-intel==2.17.0->tensorflow)\n",
      "  Using cached libclang-18.1.1-py2.py3-none-win_amd64.whl.metadata (5.3 kB)\n",
      "Collecting ml-dtypes<0.5.0,>=0.3.1 (from tensorflow-intel==2.17.0->tensorflow)\n",
      "  Downloading ml_dtypes-0.4.1-cp312-cp312-win_amd64.whl.metadata (20 kB)\n",
      "Collecting opt-einsum>=2.3.2 (from tensorflow-intel==2.17.0->tensorflow)\n",
      "  Downloading opt_einsum-3.4.0-py3-none-any.whl.metadata (6.3 kB)\n",
      "Requirement already satisfied: packaging in c:\\anaconda3\\lib\\site-packages (from tensorflow-intel==2.17.0->tensorflow) (23.2)\n",
      "Requirement already satisfied: protobuf!=4.21.0,!=4.21.1,!=4.21.2,!=4.21.3,!=4.21.4,!=4.21.5,<5.0.0dev,>=3.20.3 in c:\\anaconda3\\lib\\site-packages (from tensorflow-intel==2.17.0->tensorflow) (3.20.3)\n",
      "Requirement already satisfied: requests<3,>=2.21.0 in c:\\anaconda3\\lib\\site-packages (from tensorflow-intel==2.17.0->tensorflow) (2.32.2)\n",
      "Requirement already satisfied: setuptools in c:\\anaconda3\\lib\\site-packages (from tensorflow-intel==2.17.0->tensorflow) (69.5.1)\n",
      "Requirement already satisfied: six>=1.12.0 in c:\\anaconda3\\lib\\site-packages (from tensorflow-intel==2.17.0->tensorflow) (1.16.0)\n",
      "Collecting termcolor>=1.1.0 (from tensorflow-intel==2.17.0->tensorflow)\n",
      "  Downloading termcolor-2.5.0-py3-none-any.whl.metadata (6.1 kB)\n",
      "Requirement already satisfied: typing-extensions>=3.6.6 in c:\\anaconda3\\lib\\site-packages (from tensorflow-intel==2.17.0->tensorflow) (4.11.0)\n",
      "Requirement already satisfied: wrapt>=1.11.0 in c:\\anaconda3\\lib\\site-packages (from tensorflow-intel==2.17.0->tensorflow) (1.14.1)\n",
      "Collecting grpcio<2.0,>=1.24.3 (from tensorflow-intel==2.17.0->tensorflow)\n",
      "  Downloading grpcio-1.67.0-cp312-cp312-win_amd64.whl.metadata (4.0 kB)\n",
      "Collecting tensorboard<2.18,>=2.17 (from tensorflow-intel==2.17.0->tensorflow)\n",
      "  Downloading tensorboard-2.17.1-py3-none-any.whl.metadata (1.6 kB)\n",
      "Collecting keras>=3.2.0 (from tensorflow-intel==2.17.0->tensorflow)\n",
      "  Downloading keras-3.6.0-py3-none-any.whl.metadata (5.8 kB)\n",
      "Requirement already satisfied: numpy<2.0.0,>=1.26.0 in c:\\anaconda3\\lib\\site-packages (from tensorflow-intel==2.17.0->tensorflow) (1.26.4)\n",
      "Requirement already satisfied: wheel<1.0,>=0.23.0 in c:\\anaconda3\\lib\\site-packages (from astunparse>=1.6.0->tensorflow-intel==2.17.0->tensorflow) (0.43.0)\n",
      "Requirement already satisfied: rich in c:\\anaconda3\\lib\\site-packages (from keras>=3.2.0->tensorflow-intel==2.17.0->tensorflow) (13.3.5)\n",
      "Collecting namex (from keras>=3.2.0->tensorflow-intel==2.17.0->tensorflow)\n",
      "  Downloading namex-0.0.8-py3-none-any.whl.metadata (246 bytes)\n",
      "Collecting optree (from keras>=3.2.0->tensorflow-intel==2.17.0->tensorflow)\n",
      "  Downloading optree-0.13.0-cp312-cp312-win_amd64.whl.metadata (48 kB)\n",
      "     ---------------------------------------- 0.0/48.7 kB ? eta -:--:--\n",
      "     ---------------------------------------- 48.7/48.7 kB 1.2 MB/s eta 0:00:00\n",
      "Requirement already satisfied: charset-normalizer<4,>=2 in c:\\anaconda3\\lib\\site-packages (from requests<3,>=2.21.0->tensorflow-intel==2.17.0->tensorflow) (2.0.4)\n",
      "Requirement already satisfied: idna<4,>=2.5 in c:\\anaconda3\\lib\\site-packages (from requests<3,>=2.21.0->tensorflow-intel==2.17.0->tensorflow) (3.7)\n",
      "Requirement already satisfied: urllib3<3,>=1.21.1 in c:\\anaconda3\\lib\\site-packages (from requests<3,>=2.21.0->tensorflow-intel==2.17.0->tensorflow) (2.2.2)\n",
      "Requirement already satisfied: certifi>=2017.4.17 in c:\\anaconda3\\lib\\site-packages (from requests<3,>=2.21.0->tensorflow-intel==2.17.0->tensorflow) (2024.8.30)\n",
      "Requirement already satisfied: markdown>=2.6.8 in c:\\anaconda3\\lib\\site-packages (from tensorboard<2.18,>=2.17->tensorflow-intel==2.17.0->tensorflow) (3.4.1)\n",
      "Collecting tensorboard-data-server<0.8.0,>=0.7.0 (from tensorboard<2.18,>=2.17->tensorflow-intel==2.17.0->tensorflow)\n",
      "  Using cached tensorboard_data_server-0.7.2-py3-none-any.whl.metadata (1.1 kB)\n",
      "Requirement already satisfied: werkzeug>=1.0.1 in c:\\anaconda3\\lib\\site-packages (from tensorboard<2.18,>=2.17->tensorflow-intel==2.17.0->tensorflow) (3.0.3)\n",
      "Requirement already satisfied: MarkupSafe>=2.1.1 in c:\\anaconda3\\lib\\site-packages (from werkzeug>=1.0.1->tensorboard<2.18,>=2.17->tensorflow-intel==2.17.0->tensorflow) (2.1.3)\n",
      "Requirement already satisfied: markdown-it-py<3.0.0,>=2.2.0 in c:\\anaconda3\\lib\\site-packages (from rich->keras>=3.2.0->tensorflow-intel==2.17.0->tensorflow) (2.2.0)\n",
      "Requirement already satisfied: pygments<3.0.0,>=2.13.0 in c:\\anaconda3\\lib\\site-packages (from rich->keras>=3.2.0->tensorflow-intel==2.17.0->tensorflow) (2.15.1)\n",
      "Requirement already satisfied: mdurl~=0.1 in c:\\anaconda3\\lib\\site-packages (from markdown-it-py<3.0.0,>=2.2.0->rich->keras>=3.2.0->tensorflow-intel==2.17.0->tensorflow) (0.1.0)\n",
      "Downloading tensorflow-2.17.0-cp312-cp312-win_amd64.whl (2.0 kB)\n",
      "Downloading tensorflow_intel-2.17.0-cp312-cp312-win_amd64.whl (385.2 MB)\n",
      "   ---------------------------------------- 0.0/385.2 MB ? eta -:--:--\n",
      "   ---------------------------------------- 0.1/385.2 MB ? eta -:--:--\n",
      "   ---------------------------------------- 0.2/385.2 MB 3.5 MB/s eta 0:01:51\n",
      "   ---------------------------------------- 0.2/385.2 MB 1.6 MB/s eta 0:03:55\n",
      "   ---------------------------------------- 0.3/385.2 MB 2.2 MB/s eta 0:02:58\n",
      "   ---------------------------------------- 0.5/385.2 MB 2.4 MB/s eta 0:02:42\n",
      "   ---------------------------------------- 0.9/385.2 MB 3.2 MB/s eta 0:02:01\n",
      "   ---------------------------------------- 1.5/385.2 MB 4.7 MB/s eta 0:01:23\n",
      "   ---------------------------------------- 2.8/385.2 MB 8.0 MB/s eta 0:00:48\n",
      "   ---------------------------------------- 4.1/385.2 MB 10.0 MB/s eta 0:00:39\n",
      "    --------------------------------------- 5.4/385.2 MB 11.8 MB/s eta 0:00:33\n",
      "    --------------------------------------- 7.2/385.2 MB 14.8 MB/s eta 0:00:26\n",
      "    --------------------------------------- 8.4/385.2 MB 15.4 MB/s eta 0:00:25\n",
      "   - -------------------------------------- 9.7/385.2 MB 16.3 MB/s eta 0:00:23\n",
      "   - -------------------------------------- 11.5/385.2 MB 31.2 MB/s eta 0:00:12\n",
      "   - -------------------------------------- 12.8/385.2 MB 31.2 MB/s eta 0:00:12\n",
      "   - -------------------------------------- 13.6/385.2 MB 29.7 MB/s eta 0:00:13\n",
      "   - -------------------------------------- 14.8/385.2 MB 28.4 MB/s eta 0:00:14\n",
      "   - -------------------------------------- 15.4/385.2 MB 27.3 MB/s eta 0:00:14\n",
      "   - -------------------------------------- 16.3/385.2 MB 26.2 MB/s eta 0:00:15\n",
      "   - -------------------------------------- 18.4/385.2 MB 27.3 MB/s eta 0:00:14\n",
      "   -- ------------------------------------- 19.4/385.2 MB 26.2 MB/s eta 0:00:14\n",
      "   -- ------------------------------------- 19.6/385.2 MB 26.2 MB/s eta 0:00:14\n",
      "   -- ------------------------------------- 20.3/385.2 MB 22.6 MB/s eta 0:00:17\n",
      "   -- ------------------------------------- 21.0/385.2 MB 21.8 MB/s eta 0:00:17\n",
      "   -- ------------------------------------- 21.3/385.2 MB 19.8 MB/s eta 0:00:19\n",
      "   -- ------------------------------------- 22.3/385.2 MB 19.2 MB/s eta 0:00:19\n",
      "   -- ------------------------------------- 24.0/385.2 MB 20.5 MB/s eta 0:00:18\n",
      "   -- ------------------------------------- 25.4/385.2 MB 21.1 MB/s eta 0:00:18\n",
      "   -- ------------------------------------- 26.0/385.2 MB 20.5 MB/s eta 0:00:18\n",
      "   -- ------------------------------------- 26.4/385.2 MB 18.7 MB/s eta 0:00:20\n",
      "   -- ------------------------------------- 28.1/385.2 MB 19.3 MB/s eta 0:00:19\n",
      "   -- ------------------------------------- 28.5/385.2 MB 19.2 MB/s eta 0:00:19\n",
      "   --- ------------------------------------ 29.3/385.2 MB 17.7 MB/s eta 0:00:21\n",
      "   --- ------------------------------------ 29.3/385.2 MB 17.7 MB/s eta 0:00:21\n",
      "   --- ------------------------------------ 31.8/385.2 MB 22.5 MB/s eta 0:00:16\n",
      "   --- ------------------------------------ 33.0/385.2 MB 23.4 MB/s eta 0:00:16\n",
      "   --- ------------------------------------ 34.5/385.2 MB 22.6 MB/s eta 0:00:16\n",
      "   --- ------------------------------------ 35.8/385.2 MB 23.4 MB/s eta 0:00:15\n",
      "   --- ------------------------------------ 37.0/385.2 MB 24.2 MB/s eta 0:00:15\n",
      "   --- ------------------------------------ 37.9/385.2 MB 24.2 MB/s eta 0:00:15\n",
      "   ---- ----------------------------------- 39.0/385.2 MB 24.3 MB/s eta 0:00:15\n",
      "   ---- ----------------------------------- 40.3/385.2 MB 27.3 MB/s eta 0:00:13\n",
      "   ---- ----------------------------------- 41.4/385.2 MB 25.2 MB/s eta 0:00:14\n",
      "   ---- ----------------------------------- 42.6/385.2 MB 24.2 MB/s eta 0:00:15\n",
      "   ---- ----------------------------------- 44.0/385.2 MB 25.2 MB/s eta 0:00:14\n",
      "   ---- ----------------------------------- 45.5/385.2 MB 25.2 MB/s eta 0:00:14\n",
      "   ---- ----------------------------------- 47.0/385.2 MB 25.1 MB/s eta 0:00:14\n",
      "   ----- ---------------------------------- 48.3/385.2 MB 27.3 MB/s eta 0:00:13\n",
      "   ----- ---------------------------------- 49.6/385.2 MB 29.7 MB/s eta 0:00:12\n",
      "   ----- ---------------------------------- 50.7/385.2 MB 28.5 MB/s eta 0:00:12\n",
      "   ----- ---------------------------------- 51.6/385.2 MB 27.3 MB/s eta 0:00:13\n",
      "   ----- ---------------------------------- 53.2/385.2 MB 28.5 MB/s eta 0:00:12\n",
      "   ----- ---------------------------------- 54.8/385.2 MB 28.5 MB/s eta 0:00:12\n",
      "   ----- ---------------------------------- 56.2/385.2 MB 29.7 MB/s eta 0:00:12\n",
      "   ----- ---------------------------------- 57.7/385.2 MB 28.4 MB/s eta 0:00:12\n",
      "   ------ --------------------------------- 59.1/385.2 MB 28.4 MB/s eta 0:00:12\n",
      "   ------ --------------------------------- 59.9/385.2 MB 29.8 MB/s eta 0:00:11\n",
      "   ------ --------------------------------- 60.8/385.2 MB 28.4 MB/s eta 0:00:12\n",
      "   ------ --------------------------------- 62.4/385.2 MB 28.5 MB/s eta 0:00:12\n",
      "   ------ --------------------------------- 63.5/385.2 MB 27.3 MB/s eta 0:00:12\n",
      "   ------ --------------------------------- 64.5/385.2 MB 27.3 MB/s eta 0:00:12\n",
      "   ------ --------------------------------- 66.0/385.2 MB 26.2 MB/s eta 0:00:13\n",
      "   ------- -------------------------------- 67.6/385.2 MB 26.2 MB/s eta 0:00:13\n",
      "   ------- -------------------------------- 69.0/385.2 MB 27.3 MB/s eta 0:00:12\n",
      "   ------- -------------------------------- 70.5/385.2 MB 29.8 MB/s eta 0:00:11\n",
      "   ------- -------------------------------- 71.8/385.2 MB 29.7 MB/s eta 0:00:11\n",
      "   ------- -------------------------------- 73.1/385.2 MB 29.7 MB/s eta 0:00:11\n",
      "   ------- -------------------------------- 74.3/385.2 MB 28.5 MB/s eta 0:00:11\n",
      "   ------- -------------------------------- 75.6/385.2 MB 29.7 MB/s eta 0:00:11\n",
      "   -------- ------------------------------- 77.2/385.2 MB 29.7 MB/s eta 0:00:11\n",
      "   -------- ------------------------------- 78.0/385.2 MB 28.4 MB/s eta 0:00:11\n",
      "   -------- ------------------------------- 79.8/385.2 MB 29.7 MB/s eta 0:00:11\n",
      "   -------- ------------------------------- 81.2/385.2 MB 29.7 MB/s eta 0:00:11\n",
      "   -------- ------------------------------- 82.8/385.2 MB 31.2 MB/s eta 0:00:10\n",
      "   -------- ------------------------------- 84.2/385.2 MB 29.7 MB/s eta 0:00:11\n",
      "   -------- ------------------------------- 85.8/385.2 MB 31.2 MB/s eta 0:00:10\n",
      "   --------- ------------------------------ 87.0/385.2 MB 31.2 MB/s eta 0:00:10\n",
      "   --------- ------------------------------ 88.1/385.2 MB 29.7 MB/s eta 0:00:10\n",
      "   --------- ------------------------------ 89.9/385.2 MB 31.2 MB/s eta 0:00:10\n",
      "   --------- ------------------------------ 91.2/385.2 MB 31.2 MB/s eta 0:00:10\n",
      "   --------- ------------------------------ 93.0/385.2 MB 31.2 MB/s eta 0:00:10\n",
      "   --------- ------------------------------ 94.1/385.2 MB 31.2 MB/s eta 0:00:10\n",
      "   --------- ------------------------------ 94.4/385.2 MB 28.5 MB/s eta 0:00:11\n",
      "   --------- ------------------------------ 95.9/385.2 MB 27.3 MB/s eta 0:00:11\n",
      "   ---------- ----------------------------- 97.2/385.2 MB 27.3 MB/s eta 0:00:11\n",
      "   ---------- ----------------------------- 98.4/385.2 MB 29.7 MB/s eta 0:00:10\n",
      "   ---------- ---------------------------- 100.1/385.2 MB 27.3 MB/s eta 0:00:11\n",
      "   ---------- ---------------------------- 101.2/385.2 MB 27.3 MB/s eta 0:00:11\n",
      "   ---------- ---------------------------- 102.5/385.2 MB 27.3 MB/s eta 0:00:11\n",
      "   ---------- ---------------------------- 103.9/385.2 MB 27.3 MB/s eta 0:00:11\n",
      "   ---------- ---------------------------- 105.2/385.2 MB 28.4 MB/s eta 0:00:10\n",
      "   ---------- ---------------------------- 106.8/385.2 MB 29.8 MB/s eta 0:00:10\n",
      "   ---------- ---------------------------- 108.0/385.2 MB 28.5 MB/s eta 0:00:10\n",
      "   ----------- --------------------------- 109.6/385.2 MB 29.7 MB/s eta 0:00:10\n",
      "   ----------- --------------------------- 111.0/385.2 MB 31.2 MB/s eta 0:00:09\n",
      "   ----------- --------------------------- 112.4/385.2 MB 29.7 MB/s eta 0:00:10\n",
      "   ----------- --------------------------- 114.1/385.2 MB 31.2 MB/s eta 0:00:09\n",
      "   ----------- --------------------------- 115.5/385.2 MB 31.2 MB/s eta 0:00:09\n",
      "   ----------- --------------------------- 117.0/385.2 MB 31.1 MB/s eta 0:00:09\n",
      "   ----------- --------------------------- 118.2/385.2 MB 31.2 MB/s eta 0:00:09\n",
      "   ------------ -------------------------- 119.8/385.2 MB 31.2 MB/s eta 0:00:09\n",
      "   ------------ -------------------------- 121.0/385.2 MB 31.1 MB/s eta 0:00:09\n",
      "   ------------ -------------------------- 122.3/385.2 MB 31.2 MB/s eta 0:00:09\n",
      "   ------------ -------------------------- 123.6/385.2 MB 29.7 MB/s eta 0:00:09\n",
      "   ------------ -------------------------- 125.6/385.2 MB 31.2 MB/s eta 0:00:09\n",
      "   ------------ -------------------------- 127.1/385.2 MB 31.2 MB/s eta 0:00:09\n",
      "   ------------ -------------------------- 127.9/385.2 MB 31.2 MB/s eta 0:00:09\n",
      "   ------------- ------------------------- 128.8/385.2 MB 29.7 MB/s eta 0:00:09\n",
      "   ------------- ------------------------- 130.1/385.2 MB 29.7 MB/s eta 0:00:09\n",
      "   ------------- ------------------------- 131.4/385.2 MB 29.7 MB/s eta 0:00:09\n",
      "   ------------- ------------------------- 132.8/385.2 MB 28.5 MB/s eta 0:00:09\n",
      "   ------------- ------------------------- 133.7/385.2 MB 26.2 MB/s eta 0:00:10\n",
      "   ------------- ------------------------- 134.8/385.2 MB 26.2 MB/s eta 0:00:10\n",
      "   ------------- ------------------------- 136.4/385.2 MB 26.2 MB/s eta 0:00:10\n",
      "   ------------- ------------------------- 137.9/385.2 MB 26.2 MB/s eta 0:00:10\n",
      "   -------------- ------------------------ 139.3/385.2 MB 28.4 MB/s eta 0:00:09\n",
      "   -------------- ------------------------ 140.1/385.2 MB 27.3 MB/s eta 0:00:09\n",
      "   -------------- ------------------------ 140.6/385.2 MB 25.1 MB/s eta 0:00:10\n",
      "   -------------- ------------------------ 141.7/385.2 MB 26.2 MB/s eta 0:00:10\n",
      "   -------------- ------------------------ 143.2/385.2 MB 27.3 MB/s eta 0:00:09\n",
      "   -------------- ------------------------ 144.7/385.2 MB 27.3 MB/s eta 0:00:09\n",
      "   -------------- ------------------------ 146.2/385.2 MB 27.3 MB/s eta 0:00:09\n",
      "   -------------- ------------------------ 147.5/385.2 MB 26.2 MB/s eta 0:00:10\n",
      "   --------------- ----------------------- 148.5/385.2 MB 26.2 MB/s eta 0:00:10\n",
      "   --------------- ----------------------- 150.0/385.2 MB 27.3 MB/s eta 0:00:09\n",
      "   --------------- ----------------------- 151.2/385.2 MB 29.7 MB/s eta 0:00:08\n",
      "   --------------- ----------------------- 152.9/385.2 MB 31.2 MB/s eta 0:00:08\n",
      "   --------------- ----------------------- 154.0/385.2 MB 29.8 MB/s eta 0:00:08\n",
      "   --------------- ----------------------- 155.1/385.2 MB 28.5 MB/s eta 0:00:09\n",
      "   --------------- ----------------------- 157.1/385.2 MB 28.4 MB/s eta 0:00:09\n",
      "   ---------------- ---------------------- 158.1/385.2 MB 24.3 MB/s eta 0:00:10\n",
      "   ---------------- ---------------------- 160.6/385.2 MB 26.2 MB/s eta 0:00:09\n",
      "   ---------------- ---------------------- 163.0/385.2 MB 27.3 MB/s eta 0:00:09\n",
      "   ---------------- ---------------------- 163.3/385.2 MB 26.2 MB/s eta 0:00:09\n",
      "   ---------------- ---------------------- 164.0/385.2 MB 25.2 MB/s eta 0:00:09\n",
      "   ---------------- ---------------------- 164.7/385.2 MB 23.4 MB/s eta 0:00:10\n",
      "   ---------------- ---------------------- 165.5/385.2 MB 24.2 MB/s eta 0:00:10\n",
      "   ---------------- ---------------------- 166.8/385.2 MB 23.4 MB/s eta 0:00:10\n",
      "   ----------------- --------------------- 168.3/385.2 MB 25.2 MB/s eta 0:00:09\n",
      "   ----------------- --------------------- 169.4/385.2 MB 25.2 MB/s eta 0:00:09\n",
      "   ----------------- --------------------- 170.6/385.2 MB 25.2 MB/s eta 0:00:09\n",
      "   ----------------- --------------------- 171.9/385.2 MB 23.4 MB/s eta 0:00:10\n",
      "   ----------------- --------------------- 173.6/385.2 MB 24.2 MB/s eta 0:00:09\n",
      "   ----------------- --------------------- 174.9/385.2 MB 27.3 MB/s eta 0:00:08\n",
      "   ----------------- --------------------- 175.6/385.2 MB 29.7 MB/s eta 0:00:08\n",
      "   ----------------- --------------------- 177.2/385.2 MB 27.3 MB/s eta 0:00:08\n",
      "   ------------------ -------------------- 178.3/385.2 MB 28.5 MB/s eta 0:00:08\n",
      "   ------------------ -------------------- 179.7/385.2 MB 28.5 MB/s eta 0:00:08\n",
      "   ------------------ -------------------- 180.9/385.2 MB 28.5 MB/s eta 0:00:08\n",
      "   ------------------ -------------------- 182.3/385.2 MB 28.5 MB/s eta 0:00:08\n",
      "   ------------------ -------------------- 183.5/385.2 MB 27.3 MB/s eta 0:00:08\n",
      "   ------------------ -------------------- 184.9/385.2 MB 27.3 MB/s eta 0:00:08\n",
      "   ------------------ -------------------- 186.2/385.2 MB 28.4 MB/s eta 0:00:08\n",
      "   ------------------- ------------------- 187.8/385.2 MB 29.7 MB/s eta 0:00:07\n",
      "   ------------------- ------------------- 188.8/385.2 MB 28.5 MB/s eta 0:00:07\n",
      "   ------------------- ------------------- 189.5/385.2 MB 27.3 MB/s eta 0:00:08\n",
      "   ------------------- ------------------- 190.8/385.2 MB 27.3 MB/s eta 0:00:08\n",
      "   ------------------- ------------------- 191.4/385.2 MB 25.2 MB/s eta 0:00:08\n",
      "   ------------------- ------------------- 192.9/385.2 MB 25.2 MB/s eta 0:00:08\n",
      "   ------------------- ------------------- 193.9/385.2 MB 25.2 MB/s eta 0:00:08\n",
      "   ------------------- ------------------- 195.2/385.2 MB 25.1 MB/s eta 0:00:08\n",
      "   ------------------- ------------------- 196.5/385.2 MB 24.2 MB/s eta 0:00:08\n",
      "   ------------------- ------------------- 197.3/385.2 MB 24.2 MB/s eta 0:00:08\n",
      "   -------------------- ------------------ 199.1/385.2 MB 25.1 MB/s eta 0:00:08\n",
      "   -------------------- ------------------ 200.3/385.2 MB 26.2 MB/s eta 0:00:08\n",
      "   -------------------- ------------------ 201.7/385.2 MB 27.3 MB/s eta 0:00:07\n",
      "   -------------------- ------------------ 202.9/385.2 MB 26.2 MB/s eta 0:00:07\n",
      "   -------------------- ------------------ 203.9/385.2 MB 27.3 MB/s eta 0:00:07\n",
      "   -------------------- ------------------ 205.4/385.2 MB 28.5 MB/s eta 0:00:07\n",
      "   -------------------- ------------------ 206.6/385.2 MB 28.5 MB/s eta 0:00:07\n",
      "   --------------------- ----------------- 207.8/385.2 MB 27.3 MB/s eta 0:00:07\n",
      "   --------------------- ----------------- 209.1/385.2 MB 27.3 MB/s eta 0:00:07\n",
      "   --------------------- ----------------- 210.0/385.2 MB 26.2 MB/s eta 0:00:07\n",
      "   --------------------- ----------------- 211.1/385.2 MB 26.2 MB/s eta 0:00:07\n",
      "   --------------------- ----------------- 212.1/385.2 MB 25.2 MB/s eta 0:00:07\n",
      "   --------------------- ----------------- 213.5/385.2 MB 24.2 MB/s eta 0:00:08\n",
      "   --------------------- ----------------- 214.7/385.2 MB 22.6 MB/s eta 0:00:08\n",
      "   --------------------- ----------------- 216.4/385.2 MB 23.4 MB/s eta 0:00:08\n",
      "   ---------------------- ---------------- 217.3/385.2 MB 24.2 MB/s eta 0:00:07\n",
      "   ---------------------- ---------------- 218.6/385.2 MB 23.4 MB/s eta 0:00:08\n",
      "   ---------------------- ---------------- 219.7/385.2 MB 23.4 MB/s eta 0:00:08\n",
      "   ---------------------- ---------------- 220.7/385.2 MB 23.4 MB/s eta 0:00:08\n",
      "   ---------------------- ---------------- 221.4/385.2 MB 21.8 MB/s eta 0:00:08\n",
      "   ---------------------- ---------------- 222.3/385.2 MB 22.6 MB/s eta 0:00:08\n",
      "   ---------------------- ---------------- 223.4/385.2 MB 21.8 MB/s eta 0:00:08\n",
      "   ---------------------- ---------------- 224.5/385.2 MB 24.2 MB/s eta 0:00:07\n",
      "   ---------------------- ---------------- 225.8/385.2 MB 22.6 MB/s eta 0:00:08\n",
      "   ----------------------- --------------- 227.2/385.2 MB 23.4 MB/s eta 0:00:07\n",
      "   ----------------------- --------------- 228.4/385.2 MB 23.4 MB/s eta 0:00:07\n",
      "   ----------------------- --------------- 229.5/385.2 MB 23.4 MB/s eta 0:00:07\n",
      "   ----------------------- --------------- 230.8/385.2 MB 24.2 MB/s eta 0:00:07\n",
      "   ----------------------- --------------- 232.3/385.2 MB 26.2 MB/s eta 0:00:06\n",
      "   ----------------------- --------------- 233.4/385.2 MB 27.3 MB/s eta 0:00:06\n",
      "   ----------------------- --------------- 234.3/385.2 MB 26.2 MB/s eta 0:00:06\n",
      "   ----------------------- --------------- 235.6/385.2 MB 26.2 MB/s eta 0:00:06\n",
      "   ----------------------- --------------- 236.8/385.2 MB 26.2 MB/s eta 0:00:06\n",
      "   ------------------------ -------------- 237.2/385.2 MB 24.3 MB/s eta 0:00:07\n",
      "   ------------------------ -------------- 237.4/385.2 MB 21.9 MB/s eta 0:00:07\n",
      "   ------------------------ -------------- 237.8/385.2 MB 20.5 MB/s eta 0:00:08\n",
      "   ------------------------ -------------- 238.6/385.2 MB 20.5 MB/s eta 0:00:08\n",
      "   ------------------------ -------------- 239.5/385.2 MB 19.3 MB/s eta 0:00:08\n",
      "   ------------------------ -------------- 239.8/385.2 MB 19.8 MB/s eta 0:00:08\n",
      "   ------------------------ -------------- 240.8/385.2 MB 17.7 MB/s eta 0:00:09\n",
      "   ------------------------ -------------- 241.7/385.2 MB 17.7 MB/s eta 0:00:09\n",
      "   ------------------------ -------------- 242.9/385.2 MB 17.7 MB/s eta 0:00:09\n",
      "   ------------------------ -------------- 243.4/385.2 MB 17.7 MB/s eta 0:00:09\n",
      "   ------------------------ -------------- 244.4/385.2 MB 17.2 MB/s eta 0:00:09\n",
      "   ------------------------ -------------- 245.9/385.2 MB 17.2 MB/s eta 0:00:09\n",
      "   ------------------------- ------------- 247.0/385.2 MB 16.8 MB/s eta 0:00:09\n",
      "   ------------------------- ------------- 247.8/385.2 MB 19.3 MB/s eta 0:00:08\n",
      "   ------------------------- ------------- 248.9/385.2 MB 20.5 MB/s eta 0:00:07\n",
      "   ------------------------- ------------- 250.1/385.2 MB 22.5 MB/s eta 0:00:06\n",
      "   ------------------------- ------------- 251.3/385.2 MB 22.6 MB/s eta 0:00:06\n",
      "   ------------------------- ------------- 252.3/385.2 MB 22.6 MB/s eta 0:00:06\n",
      "   ------------------------- ------------- 253.8/385.2 MB 25.2 MB/s eta 0:00:06\n",
      "   ------------------------- ------------- 255.1/385.2 MB 25.2 MB/s eta 0:00:06\n",
      "   ------------------------- ------------- 255.9/385.2 MB 25.2 MB/s eta 0:00:06\n",
      "   -------------------------- ------------ 257.2/385.2 MB 24.2 MB/s eta 0:00:06\n",
      "   -------------------------- ------------ 258.5/385.2 MB 27.3 MB/s eta 0:00:05\n",
      "   -------------------------- ------------ 260.0/385.2 MB 27.3 MB/s eta 0:00:05\n",
      "   -------------------------- ------------ 261.3/385.2 MB 27.3 MB/s eta 0:00:05\n",
      "   -------------------------- ------------ 261.8/385.2 MB 25.2 MB/s eta 0:00:05\n",
      "   -------------------------- ------------ 262.1/385.2 MB 22.6 MB/s eta 0:00:06\n",
      "   -------------------------- ------------ 263.4/385.2 MB 23.4 MB/s eta 0:00:06\n",
      "   -------------------------- ------------ 264.8/385.2 MB 22.6 MB/s eta 0:00:06\n",
      "   -------------------------- ------------ 266.0/385.2 MB 24.2 MB/s eta 0:00:05\n",
      "   --------------------------- ----------- 267.5/385.2 MB 24.2 MB/s eta 0:00:05\n",
      "   --------------------------- ----------- 268.9/385.2 MB 24.2 MB/s eta 0:00:05\n",
      "   --------------------------- ----------- 269.9/385.2 MB 23.4 MB/s eta 0:00:05\n",
      "   --------------------------- ----------- 271.0/385.2 MB 23.4 MB/s eta 0:00:05\n",
      "   --------------------------- ----------- 272.5/385.2 MB 28.4 MB/s eta 0:00:04\n",
      "   --------------------------- ----------- 273.8/385.2 MB 28.5 MB/s eta 0:00:04\n",
      "   --------------------------- ----------- 275.0/385.2 MB 28.5 MB/s eta 0:00:04\n",
      "   --------------------------- ----------- 276.3/385.2 MB 28.5 MB/s eta 0:00:04\n",
      "   ---------------------------- ---------- 277.6/385.2 MB 28.5 MB/s eta 0:00:04\n",
      "   ---------------------------- ---------- 278.7/385.2 MB 26.2 MB/s eta 0:00:05\n",
      "   ---------------------------- ---------- 279.9/385.2 MB 26.2 MB/s eta 0:00:05\n",
      "   ---------------------------- ---------- 281.0/385.2 MB 28.4 MB/s eta 0:00:04\n",
      "   ---------------------------- ---------- 282.0/385.2 MB 26.2 MB/s eta 0:00:04\n",
      "   ---------------------------- ---------- 283.4/385.2 MB 27.3 MB/s eta 0:00:04\n",
      "   ---------------------------- ---------- 284.8/385.2 MB 27.3 MB/s eta 0:00:04\n",
      "   ---------------------------- ---------- 285.6/385.2 MB 25.2 MB/s eta 0:00:04\n",
      "   ----------------------------- --------- 286.5/385.2 MB 25.2 MB/s eta 0:00:04\n",
      "   ----------------------------- --------- 287.9/385.2 MB 25.2 MB/s eta 0:00:04\n",
      "   ----------------------------- --------- 288.7/385.2 MB 24.2 MB/s eta 0:00:04\n",
      "   ----------------------------- --------- 288.9/385.2 MB 21.8 MB/s eta 0:00:05\n",
      "   ----------------------------- --------- 289.2/385.2 MB 21.1 MB/s eta 0:00:05\n",
      "   ----------------------------- --------- 290.0/385.2 MB 19.9 MB/s eta 0:00:05\n",
      "   ----------------------------- --------- 291.4/385.2 MB 21.1 MB/s eta 0:00:05\n",
      "   ----------------------------- --------- 292.4/385.2 MB 20.5 MB/s eta 0:00:05\n",
      "   ----------------------------- --------- 293.5/385.2 MB 19.8 MB/s eta 0:00:05\n",
      "   ----------------------------- --------- 294.2/385.2 MB 19.3 MB/s eta 0:00:05\n",
      "   ----------------------------- --------- 295.0/385.2 MB 18.2 MB/s eta 0:00:05\n",
      "   ----------------------------- --------- 296.2/385.2 MB 19.2 MB/s eta 0:00:05\n",
      "   ------------------------------ -------- 297.3/385.2 MB 19.2 MB/s eta 0:00:05\n",
      "   ------------------------------ -------- 298.0/385.2 MB 18.7 MB/s eta 0:00:05\n",
      "   ------------------------------ -------- 299.4/385.2 MB 21.9 MB/s eta 0:00:04\n",
      "   ------------------------------ -------- 300.3/385.2 MB 22.5 MB/s eta 0:00:04\n",
      "   ------------------------------ -------- 300.4/385.2 MB 21.1 MB/s eta 0:00:05\n",
      "   ------------------------------ -------- 300.4/385.2 MB 21.1 MB/s eta 0:00:05\n",
      "   ------------------------------ -------- 301.0/385.2 MB 17.7 MB/s eta 0:00:05\n",
      "   ------------------------------ -------- 301.6/385.2 MB 16.8 MB/s eta 0:00:05\n",
      "   ------------------------------ -------- 302.7/385.2 MB 16.8 MB/s eta 0:00:05\n",
      "   ------------------------------ -------- 303.5/385.2 MB 16.8 MB/s eta 0:00:05\n",
      "   ------------------------------ -------- 304.5/385.2 MB 17.3 MB/s eta 0:00:05\n",
      "   ------------------------------ -------- 305.7/385.2 MB 17.7 MB/s eta 0:00:05\n",
      "   ------------------------------- ------- 306.6/385.2 MB 17.2 MB/s eta 0:00:05\n",
      "   ------------------------------- ------- 307.5/385.2 MB 16.8 MB/s eta 0:00:05\n",
      "   ------------------------------- ------- 308.4/385.2 MB 16.8 MB/s eta 0:00:05\n",
      "   ------------------------------- ------- 309.3/385.2 MB 16.4 MB/s eta 0:00:05\n",
      "   ------------------------------- ------- 310.2/385.2 MB 16.4 MB/s eta 0:00:05\n",
      "   ------------------------------- ------- 311.3/385.2 MB 20.5 MB/s eta 0:00:04\n",
      "   ------------------------------- ------- 312.3/385.2 MB 20.5 MB/s eta 0:00:04\n",
      "   ------------------------------- ------- 313.1/385.2 MB 20.5 MB/s eta 0:00:04\n",
      "   ------------------------------- ------- 314.3/385.2 MB 21.1 MB/s eta 0:00:04\n",
      "   ------------------------------- ------- 315.3/385.2 MB 21.1 MB/s eta 0:00:04\n",
      "   -------------------------------- ------ 316.2/385.2 MB 20.5 MB/s eta 0:00:04\n",
      "   -------------------------------- ------ 316.8/385.2 MB 20.5 MB/s eta 0:00:04\n",
      "   -------------------------------- ------ 317.8/385.2 MB 19.8 MB/s eta 0:00:04\n",
      "   -------------------------------- ------ 318.5/385.2 MB 19.9 MB/s eta 0:00:04\n",
      "   -------------------------------- ------ 319.2/385.2 MB 19.3 MB/s eta 0:00:04\n",
      "   -------------------------------- ------ 320.2/385.2 MB 19.8 MB/s eta 0:00:04\n",
      "   -------------------------------- ------ 321.4/385.2 MB 19.8 MB/s eta 0:00:04\n",
      "   -------------------------------- ------ 322.3/385.2 MB 19.3 MB/s eta 0:00:04\n",
      "   -------------------------------- ------ 323.3/385.2 MB 19.8 MB/s eta 0:00:04\n",
      "   -------------------------------- ------ 324.3/385.2 MB 19.8 MB/s eta 0:00:04\n",
      "   -------------------------------- ------ 325.4/385.2 MB 19.8 MB/s eta 0:00:04\n",
      "   --------------------------------- ----- 326.4/385.2 MB 19.9 MB/s eta 0:00:03\n",
      "   --------------------------------- ----- 326.7/385.2 MB 20.5 MB/s eta 0:00:03\n",
      "   --------------------------------- ----- 327.5/385.2 MB 19.2 MB/s eta 0:00:03\n",
      "   --------------------------------- ----- 328.0/385.2 MB 19.3 MB/s eta 0:00:03\n",
      "   --------------------------------- ----- 328.7/385.2 MB 18.2 MB/s eta 0:00:04\n",
      "   --------------------------------- ----- 329.5/385.2 MB 18.7 MB/s eta 0:00:03\n",
      "   --------------------------------- ----- 330.3/385.2 MB 18.2 MB/s eta 0:00:04\n",
      "   --------------------------------- ----- 330.9/385.2 MB 17.7 MB/s eta 0:00:04\n",
      "   --------------------------------- ----- 331.7/385.2 MB 17.7 MB/s eta 0:00:04\n",
      "   --------------------------------- ----- 332.9/385.2 MB 17.7 MB/s eta 0:00:03\n",
      "   --------------------------------- ----- 333.6/385.2 MB 17.7 MB/s eta 0:00:03\n",
      "   --------------------------------- ----- 334.9/385.2 MB 17.7 MB/s eta 0:00:03\n",
      "   ---------------------------------- ---- 336.0/385.2 MB 17.7 MB/s eta 0:00:03\n",
      "   ---------------------------------- ---- 336.8/385.2 MB 17.2 MB/s eta 0:00:03\n",
      "   ---------------------------------- ---- 337.8/385.2 MB 18.7 MB/s eta 0:00:03\n",
      "   ---------------------------------- ---- 338.8/385.2 MB 19.8 MB/s eta 0:00:03\n",
      "   ---------------------------------- ---- 339.6/385.2 MB 19.8 MB/s eta 0:00:03\n",
      "   ---------------------------------- ---- 340.5/385.2 MB 19.8 MB/s eta 0:00:03\n",
      "   ---------------------------------- ---- 341.2/385.2 MB 20.5 MB/s eta 0:00:03\n",
      "   ---------------------------------- ---- 342.2/385.2 MB 20.5 MB/s eta 0:00:03\n",
      "   ---------------------------------- ---- 343.2/385.2 MB 20.5 MB/s eta 0:00:03\n",
      "   ---------------------------------- ---- 344.0/385.2 MB 21.1 MB/s eta 0:00:02\n",
      "   ---------------------------------- ---- 345.1/385.2 MB 19.8 MB/s eta 0:00:03\n",
      "   ----------------------------------- --- 346.1/385.2 MB 19.8 MB/s eta 0:00:02\n",
      "   ----------------------------------- --- 347.1/385.2 MB 20.5 MB/s eta 0:00:02\n",
      "   ----------------------------------- --- 347.8/385.2 MB 19.2 MB/s eta 0:00:02\n",
      "   ----------------------------------- --- 349.0/385.2 MB 19.8 MB/s eta 0:00:02\n",
      "   ----------------------------------- --- 349.9/385.2 MB 20.5 MB/s eta 0:00:02\n",
      "   ----------------------------------- --- 351.0/385.2 MB 21.1 MB/s eta 0:00:02\n",
      "   ----------------------------------- --- 352.1/385.2 MB 21.1 MB/s eta 0:00:02\n",
      "   ----------------------------------- --- 353.1/385.2 MB 21.8 MB/s eta 0:00:02\n",
      "   ----------------------------------- --- 354.0/385.2 MB 21.1 MB/s eta 0:00:02\n",
      "   ----------------------------------- --- 354.8/385.2 MB 21.1 MB/s eta 0:00:02\n",
      "   ------------------------------------ -- 356.1/385.2 MB 21.8 MB/s eta 0:00:02\n",
      "   ------------------------------------ -- 357.0/385.2 MB 21.8 MB/s eta 0:00:02\n",
      "   ------------------------------------ -- 358.3/385.2 MB 22.6 MB/s eta 0:00:02\n",
      "   ------------------------------------ -- 359.4/385.2 MB 22.6 MB/s eta 0:00:02\n",
      "   ------------------------------------ -- 360.5/385.2 MB 22.6 MB/s eta 0:00:02\n",
      "   ------------------------------------ -- 361.5/385.2 MB 22.6 MB/s eta 0:00:02\n",
      "   ------------------------------------ -- 362.6/385.2 MB 22.6 MB/s eta 0:00:01\n",
      "   ------------------------------------ -- 363.8/385.2 MB 23.4 MB/s eta 0:00:01\n",
      "   ------------------------------------ -- 364.8/385.2 MB 22.6 MB/s eta 0:00:01\n",
      "   ------------------------------------ -- 365.1/385.2 MB 22.5 MB/s eta 0:00:01\n",
      "   ------------------------------------- - 366.0/385.2 MB 22.6 MB/s eta 0:00:01\n",
      "   ------------------------------------- - 367.3/385.2 MB 22.6 MB/s eta 0:00:01\n",
      "   ------------------------------------- - 368.3/385.2 MB 21.8 MB/s eta 0:00:01\n",
      "   ------------------------------------- - 369.5/385.2 MB 21.8 MB/s eta 0:00:01\n",
      "   ------------------------------------- - 370.3/385.2 MB 21.9 MB/s eta 0:00:01\n",
      "   ------------------------------------- - 370.4/385.2 MB 21.1 MB/s eta 0:00:01\n",
      "   ------------------------------------- - 370.4/385.2 MB 21.1 MB/s eta 0:00:01\n",
      "   ------------------------------------- - 370.8/385.2 MB 17.2 MB/s eta 0:00:01\n",
      "   ------------------------------------- - 371.0/385.2 MB 16.0 MB/s eta 0:00:01\n",
      "   ------------------------------------- - 371.5/385.2 MB 15.6 MB/s eta 0:00:01\n",
      "   ------------------------------------- - 372.3/385.2 MB 15.2 MB/s eta 0:00:01\n",
      "   ------------------------------------- - 373.1/385.2 MB 14.9 MB/s eta 0:00:01\n",
      "   ------------------------------------- - 373.7/385.2 MB 14.9 MB/s eta 0:00:01\n",
      "   ------------------------------------- - 374.4/385.2 MB 14.2 MB/s eta 0:00:01\n",
      "   ------------------------------------- - 375.2/385.2 MB 14.2 MB/s eta 0:00:01\n",
      "   --------------------------------------  375.8/385.2 MB 13.9 MB/s eta 0:00:01\n",
      "   --------------------------------------  376.5/385.2 MB 13.9 MB/s eta 0:00:01\n",
      "   --------------------------------------  377.4/385.2 MB 13.6 MB/s eta 0:00:01\n",
      "   --------------------------------------  378.0/385.2 MB 13.4 MB/s eta 0:00:01\n",
      "   --------------------------------------  378.6/385.2 MB 13.4 MB/s eta 0:00:01\n",
      "   --------------------------------------  379.5/385.2 MB 12.8 MB/s eta 0:00:01\n",
      "   --------------------------------------  380.1/385.2 MB 12.4 MB/s eta 0:00:01\n",
      "   --------------------------------------  380.9/385.2 MB 14.9 MB/s eta 0:00:01\n",
      "   --------------------------------------  381.6/385.2 MB 15.6 MB/s eta 0:00:01\n",
      "   --------------------------------------  381.7/385.2 MB 15.6 MB/s eta 0:00:01\n",
      "   --------------------------------------  381.7/385.2 MB 15.6 MB/s eta 0:00:01\n",
      "   --------------------------------------  381.7/385.2 MB 15.6 MB/s eta 0:00:01\n",
      "   --------------------------------------  382.1/385.2 MB 12.9 MB/s eta 0:00:01\n",
      "   --------------------------------------  382.4/385.2 MB 12.4 MB/s eta 0:00:01\n",
      "   --------------------------------------  382.9/385.2 MB 12.1 MB/s eta 0:00:01\n",
      "   --------------------------------------  383.6/385.2 MB 11.7 MB/s eta 0:00:01\n",
      "   --------------------------------------  384.2/385.2 MB 11.9 MB/s eta 0:00:01\n",
      "   --------------------------------------  385.0/385.2 MB 11.9 MB/s eta 0:00:01\n",
      "   --------------------------------------  385.1/385.2 MB 11.9 MB/s eta 0:00:01\n",
      "   --------------------------------------  385.1/385.2 MB 11.9 MB/s eta 0:00:01\n",
      "   --------------------------------------  385.1/385.2 MB 11.9 MB/s eta 0:00:01\n",
      "   --------------------------------------  385.1/385.2 MB 11.9 MB/s eta 0:00:01\n",
      "   --------------------------------------  385.1/385.2 MB 11.9 MB/s eta 0:00:01\n",
      "   --------------------------------------  385.1/385.2 MB 11.9 MB/s eta 0:00:01\n",
      "   --------------------------------------  385.1/385.2 MB 11.9 MB/s eta 0:00:01\n",
      "   --------------------------------------  385.1/385.2 MB 11.9 MB/s eta 0:00:01\n",
      "   --------------------------------------  385.1/385.2 MB 11.9 MB/s eta 0:00:01\n",
      "   --------------------------------------  385.1/385.2 MB 11.9 MB/s eta 0:00:01\n",
      "   --------------------------------------  385.1/385.2 MB 11.9 MB/s eta 0:00:01\n",
      "   ---------------------------------------- 385.2/385.2 MB 7.2 MB/s eta 0:00:00\n",
      "Using cached absl_py-2.1.0-py3-none-any.whl (133 kB)\n",
      "Using cached astunparse-1.6.3-py2.py3-none-any.whl (12 kB)\n",
      "Using cached flatbuffers-24.3.25-py2.py3-none-any.whl (26 kB)\n",
      "Downloading gast-0.6.0-py3-none-any.whl (21 kB)\n",
      "Using cached google_pasta-0.2.0-py3-none-any.whl (57 kB)\n",
      "Downloading grpcio-1.67.0-cp312-cp312-win_amd64.whl (4.3 MB)\n",
      "   ---------------------------------------- 0.0/4.3 MB ? eta -:--:--\n",
      "   ----- ---------------------------------- 0.6/4.3 MB 18.5 MB/s eta 0:00:01\n",
      "   ----------- ---------------------------- 1.3/4.3 MB 13.4 MB/s eta 0:00:01\n",
      "   ------------------ --------------------- 2.0/4.3 MB 16.2 MB/s eta 0:00:01\n",
      "   ------------------------- -------------- 2.8/4.3 MB 16.3 MB/s eta 0:00:01\n",
      "   --------------------------------- ------ 3.6/4.3 MB 16.5 MB/s eta 0:00:01\n",
      "   ---------------------------------------  4.3/4.3 MB 16.3 MB/s eta 0:00:01\n",
      "   ---------------------------------------- 4.3/4.3 MB 14.6 MB/s eta 0:00:00\n",
      "Downloading keras-3.6.0-py3-none-any.whl (1.2 MB)\n",
      "   ---------------------------------------- 0.0/1.2 MB ? eta -:--:--\n",
      "   -------------------------- ------------- 0.8/1.2 MB 24.3 MB/s eta 0:00:01\n",
      "   ---------------------------------------- 1.2/1.2 MB 15.1 MB/s eta 0:00:00\n",
      "Using cached libclang-18.1.1-py2.py3-none-win_amd64.whl (26.4 MB)\n",
      "Downloading ml_dtypes-0.4.1-cp312-cp312-win_amd64.whl (127 kB)\n",
      "   ---------------------------------------- 0.0/127.5 kB ? eta -:--:--\n",
      "   ---------------------------------------- 127.5/127.5 kB 7.3 MB/s eta 0:00:00\n",
      "Downloading opt_einsum-3.4.0-py3-none-any.whl (71 kB)\n",
      "   ---------------------------------------- 0.0/71.9 kB ? eta -:--:--\n",
      "   ---------------------------------------- 71.9/71.9 kB 4.1 MB/s eta 0:00:00\n",
      "Downloading tensorboard-2.17.1-py3-none-any.whl (5.5 MB)\n",
      "   ---------------------------------------- 0.0/5.5 MB ? eta -:--:--\n",
      "    --------------------------------------- 0.1/5.5 MB 3.6 MB/s eta 0:00:02\n",
      "   - -------------------------------------- 0.2/5.5 MB 2.2 MB/s eta 0:00:03\n",
      "   -- ------------------------------------- 0.3/5.5 MB 2.3 MB/s eta 0:00:03\n",
      "   --- ------------------------------------ 0.4/5.5 MB 2.5 MB/s eta 0:00:03\n",
      "   ---- ----------------------------------- 0.6/5.5 MB 2.7 MB/s eta 0:00:02\n",
      "   ------- -------------------------------- 1.0/5.5 MB 3.9 MB/s eta 0:00:02\n",
      "   ---------- ----------------------------- 1.5/5.5 MB 4.8 MB/s eta 0:00:01\n",
      "   ---------------- ----------------------- 2.3/5.5 MB 6.3 MB/s eta 0:00:01\n",
      "   ---------------------- ----------------- 3.2/5.5 MB 7.7 MB/s eta 0:00:01\n",
      "   ----------------------------- ---------- 4.0/5.5 MB 8.8 MB/s eta 0:00:01\n",
      "   ---------------------------------- ----- 4.8/5.5 MB 9.5 MB/s eta 0:00:01\n",
      "   ---------------------------------------  5.4/5.5 MB 10.0 MB/s eta 0:00:01\n",
      "   ---------------------------------------- 5.5/5.5 MB 9.5 MB/s eta 0:00:00\n",
      "Downloading termcolor-2.5.0-py3-none-any.whl (7.8 kB)\n",
      "Using cached tensorboard_data_server-0.7.2-py3-none-any.whl (2.4 kB)\n",
      "Downloading namex-0.0.8-py3-none-any.whl (5.8 kB)\n",
      "Downloading optree-0.13.0-cp312-cp312-win_amd64.whl (283 kB)\n",
      "   ---------------------------------------- 0.0/283.5 kB ? eta -:--:--\n",
      "   ---------------------------------------- 283.5/283.5 kB 8.8 MB/s eta 0:00:00\n",
      "Installing collected packages: namex, libclang, flatbuffers, termcolor, tensorboard-data-server, optree, opt-einsum, ml-dtypes, grpcio, google-pasta, gast, astunparse, absl-py, tensorboard, keras, tensorflow-intel, tensorflow\n",
      "Successfully installed absl-py-2.1.0 astunparse-1.6.3 flatbuffers-24.3.25 gast-0.6.0 google-pasta-0.2.0 grpcio-1.67.0 keras-3.6.0 libclang-18.1.1 ml-dtypes-0.4.1 namex-0.0.8 opt-einsum-3.4.0 optree-0.13.0 tensorboard-2.17.1 tensorboard-data-server-0.7.2 tensorflow-2.17.0 tensorflow-intel-2.17.0 termcolor-2.5.0\n"
     ]
    }
   ],
   "source": [
    "!pip install tensorflow"
   ]
  },
  {
   "cell_type": "code",
   "execution_count": 182,
   "metadata": {},
   "outputs": [],
   "source": [
    "from tensorflow import keras\n",
    "from tensorflow.keras import layers\n",
    "from tensorflow.keras.models import Sequential\n",
    "from tensorflow.keras.layers import Dense"
   ]
  },
  {
   "cell_type": "code",
   "execution_count": 184,
   "metadata": {
    "colab": {
     "base_uri": "https://localhost:8080/"
    },
    "id": "CoozxxgX50yG",
    "outputId": "2aed4d65-b6a6-402c-b778-5b28695c9b12"
   },
   "outputs": [
    {
     "name": "stderr",
     "output_type": "stream",
     "text": [
      "C:\\anaconda3\\Lib\\site-packages\\keras\\src\\layers\\core\\dense.py:87: UserWarning: Do not pass an `input_shape`/`input_dim` argument to a layer. When using Sequential models, prefer using an `Input(shape)` object as the first layer in the model instead.\n",
      "  super().__init__(activity_regularizer=activity_regularizer, **kwargs)\n"
     ]
    },
    {
     "data": {
      "text/html": [
       "<pre style=\"white-space:pre;overflow-x:auto;line-height:normal;font-family:Menlo,'DejaVu Sans Mono',consolas,'Courier New',monospace\"><span style=\"font-weight: bold\">Model: \"sequential_6\"</span>\n",
       "</pre>\n"
      ],
      "text/plain": [
       "\u001b[1mModel: \"sequential_6\"\u001b[0m\n"
      ]
     },
     "metadata": {},
     "output_type": "display_data"
    },
    {
     "data": {
      "text/html": [
       "<pre style=\"white-space:pre;overflow-x:auto;line-height:normal;font-family:Menlo,'DejaVu Sans Mono',consolas,'Courier New',monospace\">┏━━━━━━━━━━━━━━━━━━━━━━━━━━━━━━━━━━━━━━┳━━━━━━━━━━━━━━━━━━━━━━━━━━━━━┳━━━━━━━━━━━━━━━━━┓\n",
       "┃<span style=\"font-weight: bold\"> Layer (type)                         </span>┃<span style=\"font-weight: bold\"> Output Shape                </span>┃<span style=\"font-weight: bold\">         Param # </span>┃\n",
       "┡━━━━━━━━━━━━━━━━━━━━━━━━━━━━━━━━━━━━━━╇━━━━━━━━━━━━━━━━━━━━━━━━━━━━━╇━━━━━━━━━━━━━━━━━┩\n",
       "│ dense_18 (<span style=\"color: #0087ff; text-decoration-color: #0087ff\">Dense</span>)                     │ (<span style=\"color: #00d7ff; text-decoration-color: #00d7ff\">None</span>, <span style=\"color: #00af00; text-decoration-color: #00af00\">64</span>)                  │             <span style=\"color: #00af00; text-decoration-color: #00af00\">576</span> │\n",
       "├──────────────────────────────────────┼─────────────────────────────┼─────────────────┤\n",
       "│ dense_19 (<span style=\"color: #0087ff; text-decoration-color: #0087ff\">Dense</span>)                     │ (<span style=\"color: #00d7ff; text-decoration-color: #00d7ff\">None</span>, <span style=\"color: #00af00; text-decoration-color: #00af00\">32</span>)                  │           <span style=\"color: #00af00; text-decoration-color: #00af00\">2,080</span> │\n",
       "├──────────────────────────────────────┼─────────────────────────────┼─────────────────┤\n",
       "│ dense_20 (<span style=\"color: #0087ff; text-decoration-color: #0087ff\">Dense</span>)                     │ (<span style=\"color: #00d7ff; text-decoration-color: #00d7ff\">None</span>, <span style=\"color: #00af00; text-decoration-color: #00af00\">3</span>)                   │              <span style=\"color: #00af00; text-decoration-color: #00af00\">99</span> │\n",
       "└──────────────────────────────────────┴─────────────────────────────┴─────────────────┘\n",
       "</pre>\n"
      ],
      "text/plain": [
       "┏━━━━━━━━━━━━━━━━━━━━━━━━━━━━━━━━━━━━━━┳━━━━━━━━━━━━━━━━━━━━━━━━━━━━━┳━━━━━━━━━━━━━━━━━┓\n",
       "┃\u001b[1m \u001b[0m\u001b[1mLayer (type)                        \u001b[0m\u001b[1m \u001b[0m┃\u001b[1m \u001b[0m\u001b[1mOutput Shape               \u001b[0m\u001b[1m \u001b[0m┃\u001b[1m \u001b[0m\u001b[1m        Param #\u001b[0m\u001b[1m \u001b[0m┃\n",
       "┡━━━━━━━━━━━━━━━━━━━━━━━━━━━━━━━━━━━━━━╇━━━━━━━━━━━━━━━━━━━━━━━━━━━━━╇━━━━━━━━━━━━━━━━━┩\n",
       "│ dense_18 (\u001b[38;5;33mDense\u001b[0m)                     │ (\u001b[38;5;45mNone\u001b[0m, \u001b[38;5;34m64\u001b[0m)                  │             \u001b[38;5;34m576\u001b[0m │\n",
       "├──────────────────────────────────────┼─────────────────────────────┼─────────────────┤\n",
       "│ dense_19 (\u001b[38;5;33mDense\u001b[0m)                     │ (\u001b[38;5;45mNone\u001b[0m, \u001b[38;5;34m32\u001b[0m)                  │           \u001b[38;5;34m2,080\u001b[0m │\n",
       "├──────────────────────────────────────┼─────────────────────────────┼─────────────────┤\n",
       "│ dense_20 (\u001b[38;5;33mDense\u001b[0m)                     │ (\u001b[38;5;45mNone\u001b[0m, \u001b[38;5;34m3\u001b[0m)                   │              \u001b[38;5;34m99\u001b[0m │\n",
       "└──────────────────────────────────────┴─────────────────────────────┴─────────────────┘\n"
      ]
     },
     "metadata": {},
     "output_type": "display_data"
    },
    {
     "data": {
      "text/html": [
       "<pre style=\"white-space:pre;overflow-x:auto;line-height:normal;font-family:Menlo,'DejaVu Sans Mono',consolas,'Courier New',monospace\"><span style=\"font-weight: bold\"> Total params: </span><span style=\"color: #00af00; text-decoration-color: #00af00\">2,755</span> (10.76 KB)\n",
       "</pre>\n"
      ],
      "text/plain": [
       "\u001b[1m Total params: \u001b[0m\u001b[38;5;34m2,755\u001b[0m (10.76 KB)\n"
      ]
     },
     "metadata": {},
     "output_type": "display_data"
    },
    {
     "data": {
      "text/html": [
       "<pre style=\"white-space:pre;overflow-x:auto;line-height:normal;font-family:Menlo,'DejaVu Sans Mono',consolas,'Courier New',monospace\"><span style=\"font-weight: bold\"> Trainable params: </span><span style=\"color: #00af00; text-decoration-color: #00af00\">2,755</span> (10.76 KB)\n",
       "</pre>\n"
      ],
      "text/plain": [
       "\u001b[1m Trainable params: \u001b[0m\u001b[38;5;34m2,755\u001b[0m (10.76 KB)\n"
      ]
     },
     "metadata": {},
     "output_type": "display_data"
    },
    {
     "data": {
      "text/html": [
       "<pre style=\"white-space:pre;overflow-x:auto;line-height:normal;font-family:Menlo,'DejaVu Sans Mono',consolas,'Courier New',monospace\"><span style=\"font-weight: bold\"> Non-trainable params: </span><span style=\"color: #00af00; text-decoration-color: #00af00\">0</span> (0.00 B)\n",
       "</pre>\n"
      ],
      "text/plain": [
       "\u001b[1m Non-trainable params: \u001b[0m\u001b[38;5;34m0\u001b[0m (0.00 B)\n"
      ]
     },
     "metadata": {},
     "output_type": "display_data"
    }
   ],
   "source": [
    "def create_dense_model(input_shape):\n",
    "    model = Sequential()\n",
    "    model.add(Dense(64, activation='relu', input_shape=input_shape))\n",
    "    model.add(Dense(32, activation='relu'))\n",
    "    #model.add(Dense(1, activation='sigmoid'))  # 이진 분류일 경우\n",
    "\n",
    "    model.add(Dense(3, activation='softmax'))  # 다중 분류일 경우\n",
    "\n",
    "    # model.add(Dense(1))  # 회귀일 경우\n",
    "\n",
    "    #model.compile(optimizer='adam', loss='binary_crossentropy', metrics=['accuracy'])\n",
    "    #model.compile(optimizer='adam', loss='categorical_crossentropy', metrics=['accuracy'])  # 다중 분류일 경우(target을 원 핫 인코딩 한 경우)\n",
    "    model.compile(optimizer='adam', loss='sparse_categorical_crossentropy', metrics=['accuracy'])  # 다중 분류일 경우(target을 라벨 인코딩 한 경우)\n",
    "\n",
    "    # model.compile(optimizer='adam', loss='mean_squared_error', metrics=['mean_squared_error'])  # 회귀일 경우\n",
    "    return model\n",
    "\n",
    "# 분류\n",
    "input_dim = x_train_cls.shape[1]\n",
    "model = create_dense_model((input_dim,))\n",
    "model.summary()"
   ]
  },
  {
   "cell_type": "code",
   "execution_count": 242,
   "metadata": {},
   "outputs": [
    {
     "data": {
      "text/plain": [
       "array([1, 0, 2, ..., 0, 2, 2])"
      ]
     },
     "execution_count": 242,
     "metadata": {},
     "output_type": "execute_result"
    }
   ],
   "source": [
    "y_train_cls"
   ]
  },
  {
   "cell_type": "code",
   "execution_count": 246,
   "metadata": {},
   "outputs": [
    {
     "data": {
      "text/plain": [
       "(3341, 3)"
      ]
     },
     "execution_count": 246,
     "metadata": {},
     "output_type": "execute_result"
    }
   ],
   "source": [
    "from tensorflow.keras.utils import to_categorical\n",
    "\n",
    "# categorical_crossentropy 사용가능\n",
    "y_train_one = to_categorical(y_train_cls)\n",
    "y_train_one.shape\n"
   ]
  },
  {
   "cell_type": "code",
   "execution_count": 169,
   "metadata": {
    "scrolled": true
   },
   "outputs": [
    {
     "name": "stdout",
     "output_type": "stream",
     "text": [
      "Collecting tensorflow-cpu\n",
      "  Downloading tensorflow_cpu-2.17.0-cp312-cp312-win_amd64.whl.metadata (3.2 kB)\n",
      "Requirement already satisfied: tensorflow-intel==2.17.0 in c:\\anaconda3\\lib\\site-packages (from tensorflow-cpu) (2.17.0)\n",
      "Requirement already satisfied: absl-py>=1.0.0 in c:\\anaconda3\\lib\\site-packages (from tensorflow-intel==2.17.0->tensorflow-cpu) (2.1.0)\n",
      "Requirement already satisfied: astunparse>=1.6.0 in c:\\anaconda3\\lib\\site-packages (from tensorflow-intel==2.17.0->tensorflow-cpu) (1.6.3)\n",
      "Requirement already satisfied: flatbuffers>=24.3.25 in c:\\anaconda3\\lib\\site-packages (from tensorflow-intel==2.17.0->tensorflow-cpu) (24.3.25)\n",
      "Requirement already satisfied: gast!=0.5.0,!=0.5.1,!=0.5.2,>=0.2.1 in c:\\anaconda3\\lib\\site-packages (from tensorflow-intel==2.17.0->tensorflow-cpu) (0.6.0)\n",
      "Requirement already satisfied: google-pasta>=0.1.1 in c:\\anaconda3\\lib\\site-packages (from tensorflow-intel==2.17.0->tensorflow-cpu) (0.2.0)\n",
      "Requirement already satisfied: h5py>=3.10.0 in c:\\anaconda3\\lib\\site-packages (from tensorflow-intel==2.17.0->tensorflow-cpu) (3.11.0)\n",
      "Requirement already satisfied: libclang>=13.0.0 in c:\\anaconda3\\lib\\site-packages (from tensorflow-intel==2.17.0->tensorflow-cpu) (18.1.1)\n",
      "Requirement already satisfied: ml-dtypes<0.5.0,>=0.3.1 in c:\\anaconda3\\lib\\site-packages (from tensorflow-intel==2.17.0->tensorflow-cpu) (0.4.1)\n",
      "Requirement already satisfied: opt-einsum>=2.3.2 in c:\\anaconda3\\lib\\site-packages (from tensorflow-intel==2.17.0->tensorflow-cpu) (3.4.0)\n",
      "Requirement already satisfied: packaging in c:\\anaconda3\\lib\\site-packages (from tensorflow-intel==2.17.0->tensorflow-cpu) (23.2)\n",
      "Requirement already satisfied: protobuf!=4.21.0,!=4.21.1,!=4.21.2,!=4.21.3,!=4.21.4,!=4.21.5,<5.0.0dev,>=3.20.3 in c:\\anaconda3\\lib\\site-packages (from tensorflow-intel==2.17.0->tensorflow-cpu) (3.20.3)\n",
      "Requirement already satisfied: requests<3,>=2.21.0 in c:\\anaconda3\\lib\\site-packages (from tensorflow-intel==2.17.0->tensorflow-cpu) (2.32.2)\n",
      "Requirement already satisfied: setuptools in c:\\anaconda3\\lib\\site-packages (from tensorflow-intel==2.17.0->tensorflow-cpu) (69.5.1)\n",
      "Requirement already satisfied: six>=1.12.0 in c:\\anaconda3\\lib\\site-packages (from tensorflow-intel==2.17.0->tensorflow-cpu) (1.16.0)\n",
      "Requirement already satisfied: termcolor>=1.1.0 in c:\\anaconda3\\lib\\site-packages (from tensorflow-intel==2.17.0->tensorflow-cpu) (2.5.0)\n",
      "Requirement already satisfied: typing-extensions>=3.6.6 in c:\\anaconda3\\lib\\site-packages (from tensorflow-intel==2.17.0->tensorflow-cpu) (4.11.0)\n",
      "Requirement already satisfied: wrapt>=1.11.0 in c:\\anaconda3\\lib\\site-packages (from tensorflow-intel==2.17.0->tensorflow-cpu) (1.14.1)\n",
      "Requirement already satisfied: grpcio<2.0,>=1.24.3 in c:\\anaconda3\\lib\\site-packages (from tensorflow-intel==2.17.0->tensorflow-cpu) (1.67.0)\n",
      "Requirement already satisfied: tensorboard<2.18,>=2.17 in c:\\anaconda3\\lib\\site-packages (from tensorflow-intel==2.17.0->tensorflow-cpu) (2.17.1)\n",
      "Requirement already satisfied: keras>=3.2.0 in c:\\anaconda3\\lib\\site-packages (from tensorflow-intel==2.17.0->tensorflow-cpu) (3.6.0)\n",
      "Requirement already satisfied: numpy<2.0.0,>=1.26.0 in c:\\anaconda3\\lib\\site-packages (from tensorflow-intel==2.17.0->tensorflow-cpu) (1.26.4)\n",
      "Requirement already satisfied: wheel<1.0,>=0.23.0 in c:\\anaconda3\\lib\\site-packages (from astunparse>=1.6.0->tensorflow-intel==2.17.0->tensorflow-cpu) (0.43.0)\n",
      "Requirement already satisfied: rich in c:\\anaconda3\\lib\\site-packages (from keras>=3.2.0->tensorflow-intel==2.17.0->tensorflow-cpu) (13.3.5)\n",
      "Requirement already satisfied: namex in c:\\anaconda3\\lib\\site-packages (from keras>=3.2.0->tensorflow-intel==2.17.0->tensorflow-cpu) (0.0.8)\n",
      "Requirement already satisfied: optree in c:\\anaconda3\\lib\\site-packages (from keras>=3.2.0->tensorflow-intel==2.17.0->tensorflow-cpu) (0.13.0)\n",
      "Requirement already satisfied: charset-normalizer<4,>=2 in c:\\anaconda3\\lib\\site-packages (from requests<3,>=2.21.0->tensorflow-intel==2.17.0->tensorflow-cpu) (2.0.4)\n",
      "Requirement already satisfied: idna<4,>=2.5 in c:\\anaconda3\\lib\\site-packages (from requests<3,>=2.21.0->tensorflow-intel==2.17.0->tensorflow-cpu) (3.7)\n",
      "Requirement already satisfied: urllib3<3,>=1.21.1 in c:\\anaconda3\\lib\\site-packages (from requests<3,>=2.21.0->tensorflow-intel==2.17.0->tensorflow-cpu) (2.2.2)\n",
      "Requirement already satisfied: certifi>=2017.4.17 in c:\\anaconda3\\lib\\site-packages (from requests<3,>=2.21.0->tensorflow-intel==2.17.0->tensorflow-cpu) (2024.8.30)\n",
      "Requirement already satisfied: markdown>=2.6.8 in c:\\anaconda3\\lib\\site-packages (from tensorboard<2.18,>=2.17->tensorflow-intel==2.17.0->tensorflow-cpu) (3.4.1)\n",
      "Requirement already satisfied: tensorboard-data-server<0.8.0,>=0.7.0 in c:\\anaconda3\\lib\\site-packages (from tensorboard<2.18,>=2.17->tensorflow-intel==2.17.0->tensorflow-cpu) (0.7.2)\n",
      "Requirement already satisfied: werkzeug>=1.0.1 in c:\\anaconda3\\lib\\site-packages (from tensorboard<2.18,>=2.17->tensorflow-intel==2.17.0->tensorflow-cpu) (3.0.3)\n",
      "Requirement already satisfied: MarkupSafe>=2.1.1 in c:\\anaconda3\\lib\\site-packages (from werkzeug>=1.0.1->tensorboard<2.18,>=2.17->tensorflow-intel==2.17.0->tensorflow-cpu) (2.1.3)\n",
      "Requirement already satisfied: markdown-it-py<3.0.0,>=2.2.0 in c:\\anaconda3\\lib\\site-packages (from rich->keras>=3.2.0->tensorflow-intel==2.17.0->tensorflow-cpu) (2.2.0)\n",
      "Requirement already satisfied: pygments<3.0.0,>=2.13.0 in c:\\anaconda3\\lib\\site-packages (from rich->keras>=3.2.0->tensorflow-intel==2.17.0->tensorflow-cpu) (2.15.1)\n",
      "Requirement already satisfied: mdurl~=0.1 in c:\\anaconda3\\lib\\site-packages (from markdown-it-py<3.0.0,>=2.2.0->rich->keras>=3.2.0->tensorflow-intel==2.17.0->tensorflow-cpu) (0.1.0)\n",
      "Downloading tensorflow_cpu-2.17.0-cp312-cp312-win_amd64.whl (2.1 kB)\n",
      "Installing collected packages: tensorflow-cpu\n",
      "Successfully installed tensorflow-cpu-2.17.0\n"
     ]
    }
   ],
   "source": [
    "!pip install tensorflow-cpu\n"
   ]
  },
  {
   "cell_type": "code",
   "execution_count": 196,
   "metadata": {},
   "outputs": [
    {
     "name": "stdout",
     "output_type": "stream",
     "text": [
      "Epoch 1/20\n",
      "\u001b[1m209/209\u001b[0m \u001b[32m━━━━━━━━━━━━━━━━━━━━\u001b[0m\u001b[37m\u001b[0m \u001b[1m1s\u001b[0m 3ms/step - accuracy: 0.5920 - loss: 0.8003 - val_accuracy: 0.5550 - val_loss: 0.8125\n",
      "Epoch 2/20\n",
      "\u001b[1m209/209\u001b[0m \u001b[32m━━━━━━━━━━━━━━━━━━━━\u001b[0m\u001b[37m\u001b[0m \u001b[1m0s\u001b[0m 1ms/step - accuracy: 0.5952 - loss: 0.8199 - val_accuracy: 0.5670 - val_loss: 0.8122\n",
      "Epoch 3/20\n",
      "\u001b[1m209/209\u001b[0m \u001b[32m━━━━━━━━━━━━━━━━━━━━\u001b[0m\u001b[37m\u001b[0m \u001b[1m0s\u001b[0m 1ms/step - accuracy: 0.5819 - loss: 0.8084 - val_accuracy: 0.5766 - val_loss: 0.8136\n",
      "Epoch 4/20\n",
      "\u001b[1m209/209\u001b[0m \u001b[32m━━━━━━━━━━━━━━━━━━━━\u001b[0m\u001b[37m\u001b[0m \u001b[1m0s\u001b[0m 2ms/step - accuracy: 0.6124 - loss: 0.8061 - val_accuracy: 0.5718 - val_loss: 0.8063\n",
      "Epoch 5/20\n",
      "\u001b[1m209/209\u001b[0m \u001b[32m━━━━━━━━━━━━━━━━━━━━\u001b[0m\u001b[37m\u001b[0m \u001b[1m1s\u001b[0m 2ms/step - accuracy: 0.5810 - loss: 0.8122 - val_accuracy: 0.5742 - val_loss: 0.8133\n",
      "Epoch 6/20\n",
      "\u001b[1m209/209\u001b[0m \u001b[32m━━━━━━━━━━━━━━━━━━━━\u001b[0m\u001b[37m\u001b[0m \u001b[1m0s\u001b[0m 1ms/step - accuracy: 0.6014 - loss: 0.8089 - val_accuracy: 0.5742 - val_loss: 0.8088\n",
      "Epoch 7/20\n",
      "\u001b[1m209/209\u001b[0m \u001b[32m━━━━━━━━━━━━━━━━━━━━\u001b[0m\u001b[37m\u001b[0m \u001b[1m0s\u001b[0m 2ms/step - accuracy: 0.5979 - loss: 0.7988 - val_accuracy: 0.5801 - val_loss: 0.8092\n",
      "Epoch 8/20\n",
      "\u001b[1m209/209\u001b[0m \u001b[32m━━━━━━━━━━━━━━━━━━━━\u001b[0m\u001b[37m\u001b[0m \u001b[1m0s\u001b[0m 1ms/step - accuracy: 0.5883 - loss: 0.8054 - val_accuracy: 0.5730 - val_loss: 0.8192\n",
      "Epoch 9/20\n",
      "\u001b[1m209/209\u001b[0m \u001b[32m━━━━━━━━━━━━━━━━━━━━\u001b[0m\u001b[37m\u001b[0m \u001b[1m0s\u001b[0m 2ms/step - accuracy: 0.6066 - loss: 0.8041 - val_accuracy: 0.5658 - val_loss: 0.8044\n",
      "Epoch 10/20\n",
      "\u001b[1m209/209\u001b[0m \u001b[32m━━━━━━━━━━━━━━━━━━━━\u001b[0m\u001b[37m\u001b[0m \u001b[1m0s\u001b[0m 2ms/step - accuracy: 0.5958 - loss: 0.8012 - val_accuracy: 0.5694 - val_loss: 0.8105\n",
      "Epoch 11/20\n",
      "\u001b[1m209/209\u001b[0m \u001b[32m━━━━━━━━━━━━━━━━━━━━\u001b[0m\u001b[37m\u001b[0m \u001b[1m0s\u001b[0m 2ms/step - accuracy: 0.6160 - loss: 0.7900 - val_accuracy: 0.5789 - val_loss: 0.8086\n",
      "Epoch 12/20\n",
      "\u001b[1m209/209\u001b[0m \u001b[32m━━━━━━━━━━━━━━━━━━━━\u001b[0m\u001b[37m\u001b[0m \u001b[1m0s\u001b[0m 2ms/step - accuracy: 0.6016 - loss: 0.8064 - val_accuracy: 0.5730 - val_loss: 0.8019\n",
      "Epoch 13/20\n",
      "\u001b[1m209/209\u001b[0m \u001b[32m━━━━━━━━━━━━━━━━━━━━\u001b[0m\u001b[37m\u001b[0m \u001b[1m0s\u001b[0m 2ms/step - accuracy: 0.6090 - loss: 0.7840 - val_accuracy: 0.5754 - val_loss: 0.8101\n",
      "Epoch 14/20\n",
      "\u001b[1m209/209\u001b[0m \u001b[32m━━━━━━━━━━━━━━━━━━━━\u001b[0m\u001b[37m\u001b[0m \u001b[1m0s\u001b[0m 2ms/step - accuracy: 0.6092 - loss: 0.7881 - val_accuracy: 0.5670 - val_loss: 0.8012\n",
      "Epoch 15/20\n",
      "\u001b[1m209/209\u001b[0m \u001b[32m━━━━━━━━━━━━━━━━━━━━\u001b[0m\u001b[37m\u001b[0m \u001b[1m1s\u001b[0m 3ms/step - accuracy: 0.6076 - loss: 0.8089 - val_accuracy: 0.5801 - val_loss: 0.8156\n",
      "Epoch 16/20\n",
      "\u001b[1m209/209\u001b[0m \u001b[32m━━━━━━━━━━━━━━━━━━━━\u001b[0m\u001b[37m\u001b[0m \u001b[1m0s\u001b[0m 2ms/step - accuracy: 0.5902 - loss: 0.8170 - val_accuracy: 0.5742 - val_loss: 0.8045\n",
      "Epoch 17/20\n",
      "\u001b[1m209/209\u001b[0m \u001b[32m━━━━━━━━━━━━━━━━━━━━\u001b[0m\u001b[37m\u001b[0m \u001b[1m0s\u001b[0m 2ms/step - accuracy: 0.6030 - loss: 0.8068 - val_accuracy: 0.5861 - val_loss: 0.8097\n",
      "Epoch 18/20\n",
      "\u001b[1m209/209\u001b[0m \u001b[32m━━━━━━━━━━━━━━━━━━━━\u001b[0m\u001b[37m\u001b[0m \u001b[1m1s\u001b[0m 3ms/step - accuracy: 0.6050 - loss: 0.7987 - val_accuracy: 0.5574 - val_loss: 0.8183\n",
      "Epoch 19/20\n",
      "\u001b[1m209/209\u001b[0m \u001b[32m━━━━━━━━━━━━━━━━━━━━\u001b[0m\u001b[37m\u001b[0m \u001b[1m0s\u001b[0m 1ms/step - accuracy: 0.5925 - loss: 0.7952 - val_accuracy: 0.5718 - val_loss: 0.8192\n",
      "Epoch 20/20\n",
      "\u001b[1m209/209\u001b[0m \u001b[32m━━━━━━━━━━━━━━━━━━━━\u001b[0m\u001b[37m\u001b[0m \u001b[1m0s\u001b[0m 2ms/step - accuracy: 0.6208 - loss: 0.7897 - val_accuracy: 0.5670 - val_loss: 0.8092\n"
     ]
    }
   ],
   "source": [
    "history = model.fit(x_train_cls,y_train_cls,epochs=20,batch_size=16,validation_data=(x_test_cls,y_test_cls))"
   ]
  },
  {
   "cell_type": "code",
   "execution_count": 234,
   "metadata": {},
   "outputs": [
    {
     "name": "stdout",
     "output_type": "stream",
     "text": [
      "\u001b[1m27/27\u001b[0m \u001b[32m━━━━━━━━━━━━━━━━━━━━\u001b[0m\u001b[37m\u001b[0m \u001b[1m0s\u001b[0m 2ms/step - accuracy: 0.5410 - loss: 0.8578\n"
     ]
    },
    {
     "data": {
      "text/plain": [
       "[0.8092299699783325, 0.5669856667518616]"
      ]
     },
     "execution_count": 234,
     "metadata": {},
     "output_type": "execute_result"
    }
   ],
   "source": [
    "model.evaluate(x_test_cls,y_test_cls)"
   ]
  },
  {
   "cell_type": "code",
   "execution_count": 198,
   "metadata": {
    "colab": {
     "base_uri": "https://localhost:8080/",
     "height": 445
    },
    "id": "xtR0nuir53t6",
    "outputId": "0f493b10-e543-4eed-8bbf-43f34e4f1368"
   },
   "outputs": [
    {
     "data": {
      "text/plain": [
       "Text(0, 0.5, 'Loss')"
      ]
     },
     "execution_count": 198,
     "metadata": {},
     "output_type": "execute_result"
    },
    {
     "data": {
      "image/png": "[encoded data removed]",
      "text/plain": [
       "<Figure size 1000x600 with 1 Axes>"
      ]
     },
     "metadata": {},
     "output_type": "display_data"
    }
   ],
   "source": [
    "# 손실 시각화\n",
    "loss = history.history['loss']\n",
    "val_loss = history.history['val_loss']\n",
    "epochs = range(1, len(loss) + 1)\n",
    "\n",
    "plt.figure(figsize=(10, 6))\n",
    "plt.plot(epochs, loss, 'b-', label='Training loss')\n",
    "plt.plot(epochs, val_loss, 'r-', label='Validation loss')\n",
    "plt.title('Training and Validation Loss')\n",
    "plt.legend(['train', 'test'], loc='upper right')\n",
    "plt.xlabel('Epochs')\n",
    "plt.ylabel('Loss')"
   ]
  },
  {
   "cell_type": "code",
   "execution_count": 200,
   "metadata": {},
   "outputs": [
    {
     "data": {
      "text/plain": [
       "Text(0, 0.5, 'Accuracy')"
      ]
     },
     "execution_count": 200,
     "metadata": {},
     "output_type": "execute_result"
    },
    {
     "data": {
      "image/png": "[encoded data removed]",
      "text/plain": [
       "<Figure size 1000x600 with 1 Axes>"
      ]
     },
     "metadata": {},
     "output_type": "display_data"
    }
   ],
   "source": [
    "# 정확도 시각화\n",
    "acc = history.history['accuracy']\n",
    "val_acc = history.history['val_accuracy']\n",
    "epochs = range(1, len(acc) + 1)\n",
    "\n",
    "plt.figure(figsize=(10, 6))\n",
    "plt.plot(epochs, acc, 'b-', label='Training accuracy')\n",
    "plt.plot(epochs, val_acc, 'r-', label='Validation accuracy')\n",
    "plt.title('Training and Validation Accuracy')\n",
    "plt.legend(['train', 'test'], loc='upper right')\n",
    "plt.xlabel('Epochs')\n",
    "plt.ylabel('Accuracy')\n"
   ]
  },
  {
   "cell_type": "code",
   "execution_count": 210,
   "metadata": {
    "colab": {
     "base_uri": "https://localhost:8080/"
    },
    "id": "7P-dXvHp7gqM",
    "outputId": "1ddd36ce-0427-437b-c9a6-f34d2a8a4366"
   },
   "outputs": [
    {
     "name": "stderr",
     "output_type": "stream",
     "text": [
      "C:\\anaconda3\\Lib\\site-packages\\keras\\src\\layers\\core\\dense.py:87: UserWarning: Do not pass an `input_shape`/`input_dim` argument to a layer. When using Sequential models, prefer using an `Input(shape)` object as the first layer in the model instead.\n",
      "  super().__init__(activity_regularizer=activity_regularizer, **kwargs)\n"
     ]
    },
    {
     "data": {
      "text/html": [
       "<pre style=\"white-space:pre;overflow-x:auto;line-height:normal;font-family:Menlo,'DejaVu Sans Mono',consolas,'Courier New',monospace\"><span style=\"font-weight: bold\">Model: \"sequential_9\"</span>\n",
       "</pre>\n"
      ],
      "text/plain": [
       "\u001b[1mModel: \"sequential_9\"\u001b[0m\n"
      ]
     },
     "metadata": {},
     "output_type": "display_data"
    },
    {
     "data": {
      "text/html": [
       "<pre style=\"white-space:pre;overflow-x:auto;line-height:normal;font-family:Menlo,'DejaVu Sans Mono',consolas,'Courier New',monospace\">┏━━━━━━━━━━━━━━━━━━━━━━━━━━━━━━━━━━━━━━┳━━━━━━━━━━━━━━━━━━━━━━━━━━━━━┳━━━━━━━━━━━━━━━━━┓\n",
       "┃<span style=\"font-weight: bold\"> Layer (type)                         </span>┃<span style=\"font-weight: bold\"> Output Shape                </span>┃<span style=\"font-weight: bold\">         Param # </span>┃\n",
       "┡━━━━━━━━━━━━━━━━━━━━━━━━━━━━━━━━━━━━━━╇━━━━━━━━━━━━━━━━━━━━━━━━━━━━━╇━━━━━━━━━━━━━━━━━┩\n",
       "│ dense_27 (<span style=\"color: #0087ff; text-decoration-color: #0087ff\">Dense</span>)                     │ (<span style=\"color: #00d7ff; text-decoration-color: #00d7ff\">None</span>, <span style=\"color: #00af00; text-decoration-color: #00af00\">64</span>)                  │             <span style=\"color: #00af00; text-decoration-color: #00af00\">704</span> │\n",
       "├──────────────────────────────────────┼─────────────────────────────┼─────────────────┤\n",
       "│ dense_28 (<span style=\"color: #0087ff; text-decoration-color: #0087ff\">Dense</span>)                     │ (<span style=\"color: #00d7ff; text-decoration-color: #00d7ff\">None</span>, <span style=\"color: #00af00; text-decoration-color: #00af00\">32</span>)                  │           <span style=\"color: #00af00; text-decoration-color: #00af00\">2,080</span> │\n",
       "├──────────────────────────────────────┼─────────────────────────────┼─────────────────┤\n",
       "│ dense_29 (<span style=\"color: #0087ff; text-decoration-color: #0087ff\">Dense</span>)                     │ (<span style=\"color: #00d7ff; text-decoration-color: #00d7ff\">None</span>, <span style=\"color: #00af00; text-decoration-color: #00af00\">1</span>)                   │              <span style=\"color: #00af00; text-decoration-color: #00af00\">33</span> │\n",
       "└──────────────────────────────────────┴─────────────────────────────┴─────────────────┘\n",
       "</pre>\n"
      ],
      "text/plain": [
       "┏━━━━━━━━━━━━━━━━━━━━━━━━━━━━━━━━━━━━━━┳━━━━━━━━━━━━━━━━━━━━━━━━━━━━━┳━━━━━━━━━━━━━━━━━┓\n",
       "┃\u001b[1m \u001b[0m\u001b[1mLayer (type)                        \u001b[0m\u001b[1m \u001b[0m┃\u001b[1m \u001b[0m\u001b[1mOutput Shape               \u001b[0m\u001b[1m \u001b[0m┃\u001b[1m \u001b[0m\u001b[1m        Param #\u001b[0m\u001b[1m \u001b[0m┃\n",
       "┡━━━━━━━━━━━━━━━━━━━━━━━━━━━━━━━━━━━━━━╇━━━━━━━━━━━━━━━━━━━━━━━━━━━━━╇━━━━━━━━━━━━━━━━━┩\n",
       "│ dense_27 (\u001b[38;5;33mDense\u001b[0m)                     │ (\u001b[38;5;45mNone\u001b[0m, \u001b[38;5;34m64\u001b[0m)                  │             \u001b[38;5;34m704\u001b[0m │\n",
       "├──────────────────────────────────────┼─────────────────────────────┼─────────────────┤\n",
       "│ dense_28 (\u001b[38;5;33mDense\u001b[0m)                     │ (\u001b[38;5;45mNone\u001b[0m, \u001b[38;5;34m32\u001b[0m)                  │           \u001b[38;5;34m2,080\u001b[0m │\n",
       "├──────────────────────────────────────┼─────────────────────────────┼─────────────────┤\n",
       "│ dense_29 (\u001b[38;5;33mDense\u001b[0m)                     │ (\u001b[38;5;45mNone\u001b[0m, \u001b[38;5;34m1\u001b[0m)                   │              \u001b[38;5;34m33\u001b[0m │\n",
       "└──────────────────────────────────────┴─────────────────────────────┴─────────────────┘\n"
      ]
     },
     "metadata": {},
     "output_type": "display_data"
    },
    {
     "data": {
      "text/html": [
       "<pre style=\"white-space:pre;overflow-x:auto;line-height:normal;font-family:Menlo,'DejaVu Sans Mono',consolas,'Courier New',monospace\"><span style=\"font-weight: bold\"> Total params: </span><span style=\"color: #00af00; text-decoration-color: #00af00\">2,817</span> (11.00 KB)\n",
       "</pre>\n"
      ],
      "text/plain": [
       "\u001b[1m Total params: \u001b[0m\u001b[38;5;34m2,817\u001b[0m (11.00 KB)\n"
      ]
     },
     "metadata": {},
     "output_type": "display_data"
    },
    {
     "data": {
      "text/html": [
       "<pre style=\"white-space:pre;overflow-x:auto;line-height:normal;font-family:Menlo,'DejaVu Sans Mono',consolas,'Courier New',monospace\"><span style=\"font-weight: bold\"> Trainable params: </span><span style=\"color: #00af00; text-decoration-color: #00af00\">2,817</span> (11.00 KB)\n",
       "</pre>\n"
      ],
      "text/plain": [
       "\u001b[1m Trainable params: \u001b[0m\u001b[38;5;34m2,817\u001b[0m (11.00 KB)\n"
      ]
     },
     "metadata": {},
     "output_type": "display_data"
    },
    {
     "data": {
      "text/html": [
       "<pre style=\"white-space:pre;overflow-x:auto;line-height:normal;font-family:Menlo,'DejaVu Sans Mono',consolas,'Courier New',monospace\"><span style=\"font-weight: bold\"> Non-trainable params: </span><span style=\"color: #00af00; text-decoration-color: #00af00\">0</span> (0.00 B)\n",
       "</pre>\n"
      ],
      "text/plain": [
       "\u001b[1m Non-trainable params: \u001b[0m\u001b[38;5;34m0\u001b[0m (0.00 B)\n"
      ]
     },
     "metadata": {},
     "output_type": "display_data"
    }
   ],
   "source": [
    "def create_dense_model(input_shape):\n",
    "    model = Sequential()\n",
    "    model.add(Dense(64, activation='tanh', input_shape=input_shape))\n",
    "    model.add(Dense(32, activation='tanh'))\n",
    "    #model.add(Dense(1, activation='sigmoid'))  # 이진 분류일 경우\n",
    "\n",
    "    #model.add(Dense(3, activation='softmax'))  # 다중 분류일 경우\n",
    "\n",
    "    model.add(Dense(1))  # 회귀일 경우\n",
    "\n",
    "    #model.compile(optimizer='adam', loss='binary_crossentropy', metrics=['accuracy'])\n",
    "    #model.compile(optimizer='adam', loss='categorical_crossentropy', metrics=['accuracy'])  # 다중 분류일 경우(target을 원 핫 인코딩 한 경우)\n",
    "    #model.compile(optimizer='adam', loss='sparse_categorical_crossentropy', metrics=['accuracy'])  # 다중 분류일 경우(target을 라벨 인코딩 한 경우)\n",
    "\n",
    "    model.compile(optimizer='adam', loss='mean_squared_error', metrics=['mean_squared_error'])  # 회귀일 경우\n",
    "    return model\n",
    "\n",
    "# 분류\n",
    "input_dim = x_train_rg.shape[1]\n",
    "model_rg = create_dense_model((input_dim,))\n",
    "model_rg.summary()"
   ]
  },
  {
   "cell_type": "code",
   "execution_count": 212,
   "metadata": {
    "colab": {
     "base_uri": "https://localhost:8080/",
     "height": 634
    },
    "id": "RANfx2KD85x6",
    "outputId": "080a14c9-4b8b-4323-af8a-2b2874f8fa68"
   },
   "outputs": [
    {
     "name": "stdout",
     "output_type": "stream",
     "text": [
      "Epoch 1/20\n",
      "\u001b[1m209/209\u001b[0m \u001b[32m━━━━━━━━━━━━━━━━━━━━\u001b[0m\u001b[37m\u001b[0m \u001b[1m2s\u001b[0m 3ms/step - loss: 80.7253 - mean_squared_error: 80.7253 - val_loss: 6.3702 - val_mean_squared_error: 6.3702\n",
      "Epoch 2/20\n",
      "\u001b[1m209/209\u001b[0m \u001b[32m━━━━━━━━━━━━━━━━━━━━\u001b[0m\u001b[37m\u001b[0m \u001b[1m0s\u001b[0m 2ms/step - loss: 6.1522 - mean_squared_error: 6.1522 - val_loss: 5.5813 - val_mean_squared_error: 5.5813\n",
      "Epoch 3/20\n",
      "\u001b[1m209/209\u001b[0m \u001b[32m━━━━━━━━━━━━━━━━━━━━\u001b[0m\u001b[37m\u001b[0m \u001b[1m0s\u001b[0m 2ms/step - loss: 5.3786 - mean_squared_error: 5.3786 - val_loss: 5.2069 - val_mean_squared_error: 5.2069\n",
      "Epoch 4/20\n",
      "\u001b[1m209/209\u001b[0m \u001b[32m━━━━━━━━━━━━━━━━━━━━\u001b[0m\u001b[37m\u001b[0m \u001b[1m0s\u001b[0m 1ms/step - loss: 5.3859 - mean_squared_error: 5.3859 - val_loss: 4.9712 - val_mean_squared_error: 4.9712\n",
      "Epoch 5/20\n",
      "\u001b[1m209/209\u001b[0m \u001b[32m━━━━━━━━━━━━━━━━━━━━\u001b[0m\u001b[37m\u001b[0m \u001b[1m0s\u001b[0m 1ms/step - loss: 5.0948 - mean_squared_error: 5.0948 - val_loss: 4.8700 - val_mean_squared_error: 4.8700\n",
      "Epoch 6/20\n",
      "\u001b[1m209/209\u001b[0m \u001b[32m━━━━━━━━━━━━━━━━━━━━\u001b[0m\u001b[37m\u001b[0m \u001b[1m0s\u001b[0m 2ms/step - loss: 5.2243 - mean_squared_error: 5.2243 - val_loss: 4.7465 - val_mean_squared_error: 4.7465\n",
      "Epoch 7/20\n",
      "\u001b[1m209/209\u001b[0m \u001b[32m━━━━━━━━━━━━━━━━━━━━\u001b[0m\u001b[37m\u001b[0m \u001b[1m0s\u001b[0m 1ms/step - loss: 4.7170 - mean_squared_error: 4.7170 - val_loss: 4.7762 - val_mean_squared_error: 4.7762\n",
      "Epoch 8/20\n",
      "\u001b[1m209/209\u001b[0m \u001b[32m━━━━━━━━━━━━━━━━━━━━\u001b[0m\u001b[37m\u001b[0m \u001b[1m1s\u001b[0m 2ms/step - loss: 4.5408 - mean_squared_error: 4.5408 - val_loss: 4.6575 - val_mean_squared_error: 4.6575\n",
      "Epoch 9/20\n",
      "\u001b[1m209/209\u001b[0m \u001b[32m━━━━━━━━━━━━━━━━━━━━\u001b[0m\u001b[37m\u001b[0m \u001b[1m0s\u001b[0m 2ms/step - loss: 4.5063 - mean_squared_error: 4.5063 - val_loss: 4.4711 - val_mean_squared_error: 4.4711\n",
      "Epoch 10/20\n",
      "\u001b[1m209/209\u001b[0m \u001b[32m━━━━━━━━━━━━━━━━━━━━\u001b[0m\u001b[37m\u001b[0m \u001b[1m0s\u001b[0m 2ms/step - loss: 4.9364 - mean_squared_error: 4.9364 - val_loss: 4.5490 - val_mean_squared_error: 4.5490\n",
      "Epoch 11/20\n",
      "\u001b[1m209/209\u001b[0m \u001b[32m━━━━━━━━━━━━━━━━━━━━\u001b[0m\u001b[37m\u001b[0m \u001b[1m0s\u001b[0m 2ms/step - loss: 4.7775 - mean_squared_error: 4.7775 - val_loss: 4.4882 - val_mean_squared_error: 4.4882\n",
      "Epoch 12/20\n",
      "\u001b[1m209/209\u001b[0m \u001b[32m━━━━━━━━━━━━━━━━━━━━\u001b[0m\u001b[37m\u001b[0m \u001b[1m0s\u001b[0m 2ms/step - loss: 4.6155 - mean_squared_error: 4.6155 - val_loss: 4.4007 - val_mean_squared_error: 4.4007\n",
      "Epoch 13/20\n",
      "\u001b[1m209/209\u001b[0m \u001b[32m━━━━━━━━━━━━━━━━━━━━\u001b[0m\u001b[37m\u001b[0m \u001b[1m0s\u001b[0m 1ms/step - loss: 4.6412 - mean_squared_error: 4.6412 - val_loss: 4.2229 - val_mean_squared_error: 4.2229\n",
      "Epoch 14/20\n",
      "\u001b[1m209/209\u001b[0m \u001b[32m━━━━━━━━━━━━━━━━━━━━\u001b[0m\u001b[37m\u001b[0m \u001b[1m0s\u001b[0m 2ms/step - loss: 4.5210 - mean_squared_error: 4.5210 - val_loss: 4.2253 - val_mean_squared_error: 4.2253\n",
      "Epoch 15/20\n",
      "\u001b[1m209/209\u001b[0m \u001b[32m━━━━━━━━━━━━━━━━━━━━\u001b[0m\u001b[37m\u001b[0m \u001b[1m1s\u001b[0m 2ms/step - loss: 4.6147 - mean_squared_error: 4.6147 - val_loss: 4.2564 - val_mean_squared_error: 4.2564\n",
      "Epoch 16/20\n",
      "\u001b[1m209/209\u001b[0m \u001b[32m━━━━━━━━━━━━━━━━━━━━\u001b[0m\u001b[37m\u001b[0m \u001b[1m0s\u001b[0m 2ms/step - loss: 4.5200 - mean_squared_error: 4.5200 - val_loss: 4.2018 - val_mean_squared_error: 4.2018\n",
      "Epoch 17/20\n",
      "\u001b[1m209/209\u001b[0m \u001b[32m━━━━━━━━━━━━━━━━━━━━\u001b[0m\u001b[37m\u001b[0m \u001b[1m1s\u001b[0m 3ms/step - loss: 4.4414 - mean_squared_error: 4.4414 - val_loss: 4.2376 - val_mean_squared_error: 4.2376\n",
      "Epoch 18/20\n",
      "\u001b[1m209/209\u001b[0m \u001b[32m━━━━━━━━━━━━━━━━━━━━\u001b[0m\u001b[37m\u001b[0m \u001b[1m0s\u001b[0m 2ms/step - loss: 4.7789 - mean_squared_error: 4.7789 - val_loss: 4.1766 - val_mean_squared_error: 4.1766\n",
      "Epoch 19/20\n",
      "\u001b[1m209/209\u001b[0m \u001b[32m━━━━━━━━━━━━━━━━━━━━\u001b[0m\u001b[37m\u001b[0m \u001b[1m1s\u001b[0m 3ms/step - loss: 4.3591 - mean_squared_error: 4.3591 - val_loss: 4.1775 - val_mean_squared_error: 4.1775\n",
      "Epoch 20/20\n",
      "\u001b[1m209/209\u001b[0m \u001b[32m━━━━━━━━━━━━━━━━━━━━\u001b[0m\u001b[37m\u001b[0m \u001b[1m0s\u001b[0m 2ms/step - loss: 4.5551 - mean_squared_error: 4.5551 - val_loss: 4.2146 - val_mean_squared_error: 4.2146\n"
     ]
    }
   ],
   "source": [
    "history2 = model_rg.fit(x_train_rg,y_train_rg,epochs=20,batch_size=16,validation_data=(x_test_rg,y_test_rg))"
   ]
  },
  {
   "cell_type": "code",
   "execution_count": 214,
   "metadata": {
    "colab": {
     "base_uri": "https://localhost:8080/"
    },
    "id": "GXQHuu7s9K15",
    "outputId": "a4deb7f3-04cc-43dc-e286-43fdd64fa64b"
   },
   "outputs": [
    {
     "data": {
      "text/plain": [
       "Text(0, 0.5, 'Loss')"
      ]
     },
     "execution_count": 214,
     "metadata": {},
     "output_type": "execute_result"
    },
    {
     "data": {
      "image/png": "[encoded data removed]",
      "text/plain": [
       "<Figure size 1000x600 with 1 Axes>"
      ]
     },
     "metadata": {},
     "output_type": "display_data"
    }
   ],
   "source": [
    "# 손실 시각화\n",
    "loss = history2.history['loss']\n",
    "val_loss = history2.history['val_loss']\n",
    "epochs = range(1, len(loss) + 1)\n",
    "\n",
    "plt.figure(figsize=(10, 6))\n",
    "plt.plot(epochs, loss, 'b-', label='Training loss')\n",
    "plt.plot(epochs, val_loss, 'r-', label='Validation loss')\n",
    "plt.title('Training and Validation Loss')\n",
    "plt.legend(['train', 'test'], loc='upper right')\n",
    "plt.xlabel('Epochs')\n",
    "plt.ylabel('Loss')"
   ]
  },
  {
   "cell_type": "code",
   "execution_count": 230,
   "metadata": {},
   "outputs": [
    {
     "data": {
      "text/plain": [
       "dict_keys(['loss', 'mean_squared_error', 'val_loss', 'val_mean_squared_error'])"
      ]
     },
     "execution_count": 230,
     "metadata": {},
     "output_type": "execute_result"
    }
   ],
   "source": [
    "history2.history.keys()"
   ]
  },
  {
   "cell_type": "code",
   "execution_count": 232,
   "metadata": {},
   "outputs": [
    {
     "data": {
      "text/plain": [
       "Text(0, 0.5, 'Accuracy')"
      ]
     },
     "execution_count": 232,
     "metadata": {},
     "output_type": "execute_result"
    },
    {
     "data": {
      "image/png": "[encoded data removed]",
      "text/plain": [
       "<Figure size 1000x600 with 1 Axes>"
      ]
     },
     "metadata": {},
     "output_type": "display_data"
    }
   ],
   "source": [
    "# 정확도 시각화\n",
    "acc = history2.history['mean_squared_error']\n",
    "val_acc = history2.history['val_mean_squared_error']\n",
    "epochs = range(1, len(acc) + 1)\n",
    "\n",
    "plt.figure(figsize=(10, 6))\n",
    "plt.plot(epochs, acc, 'b-', label='Training accuracy')\n",
    "plt.plot(epochs, val_acc, 'r-', label='Validation accuracy')\n",
    "plt.title('Training and Validation Accuracy')\n",
    "plt.legend(['train', 'test'], loc='upper right')\n",
    "plt.xlabel('Epochs')\n",
    "plt.ylabel('Accuracy')\n"
   ]
  }
 ],
 "metadata": {
  "colab": {
   "provenance": []
  },
  "kernelspec": {
   "display_name": "Python 3 (ipykernel)",
   "language": "python",
   "name": "python3"
  },
  "language_info": {
   "codemirror_mode": {
    "name": "ipython",
    "version": 3
   },
   "file_extension": ".py",
   "mimetype": "text/x-python",
   "name": "python",
   "nbconvert_exporter": "python",
   "pygments_lexer": "ipython3",
   "version": "3.12.4"
  }
 },
 "nbformat": 4,
 "nbformat_minor": 4
}
